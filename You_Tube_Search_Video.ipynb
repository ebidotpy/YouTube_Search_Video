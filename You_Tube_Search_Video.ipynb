{
 "cells": [
  {
   "cell_type": "markdown",
   "metadata": {
    "id": "y7vdlK2GauwS"
   },
   "source": [
    "# Import necessary liberaries"
   ]
  },
  {
   "cell_type": "code",
   "execution_count": null,
   "metadata": {
    "colab": {
     "base_uri": "https://localhost:8080/"
    },
    "executionInfo": {
     "elapsed": 158786,
     "status": "ok",
     "timestamp": 1717654860098,
     "user": {
      "displayName": "Mohammad Ebrahim Darabi",
      "userId": "12922259800496717035"
     },
     "user_tz": -210
    },
    "id": "rco5Drg8CHud",
    "outputId": "7d11e847-6e7f-4b44-8e4d-114b0ce92c53"
   },
   "outputs": [],
   "source": [
    "%%bash\n",
    "\n",
    "pip install pytube\n",
    "\n",
    "pip3 -qqq install transformers[torch] torch datasets\n",
    "\n",
    "pip3 -qqq install gdcm\n",
    "pip3 -qqq install pydicom\n",
    "pip -qqq install faiss-gpu\n",
    "pip -qqq install pinecone-client\n",
    "pip -qqq install scenedetect"
   ]
  },
  {
   "cell_type": "code",
   "execution_count": null,
   "metadata": {
    "id": "X82Bb7Ifa0Kb"
   },
   "outputs": [],
   "source": [
    "import os\n",
    "import faiss\n",
    "import torch\n",
    "import skimage\n",
    "import pinecone\n",
    "import requests\n",
    "import numpy as np\n",
    "import pandas as pd\n",
    "import matplotlib\n",
    "import matplotlib.pyplot as plt\n",
    "from pytube import YouTube\n",
    "from PIL import Image\n",
    "from io import BytesIO\n",
    "import IPython.display\n",
    "from datasets import load_dataset\n",
    "from collections import OrderedDict\n",
    "from transformers import CLIPProcessor, CLIPModel, CLIPTokenizer\n",
    "from sklearn.decomposition import PCA\n",
    "import time\n",
    "import cv2"
   ]
  },
  {
   "cell_type": "markdown",
   "metadata": {
    "id": "h2Zk3ZoNa_Ti"
   },
   "source": [
    "# Dataset"
   ]
  },
  {
   "cell_type": "markdown",
   "metadata": {
    "id": "UdR85vHebFyq"
   },
   "source": [
    "## Download dataset"
   ]
  },
  {
   "cell_type": "code",
   "execution_count": null,
   "metadata": {
    "id": "n2SmmP9clJyQ"
   },
   "outputs": [],
   "source": [
    "df = pd.read_csv('https://query.data.world/s/cagbol5yuk7ykt2sswer5vdcn5yxeg?dws=00000')"
   ]
  },
  {
   "cell_type": "code",
   "execution_count": null,
   "metadata": {
    "colab": {
     "base_uri": "https://localhost:8080/",
     "height": 452
    },
    "executionInfo": {
     "elapsed": 549,
     "status": "ok",
     "timestamp": 1717655698163,
     "user": {
      "displayName": "Mohammad Ebrahim Darabi",
      "userId": "12922259800496717035"
     },
     "user_tz": -210
    },
    "id": "4RtpDw8hlJvp",
    "outputId": "160e8b9b-bbc5-4d80-e937-cba8c3b703e7"
   },
   "outputs": [],
   "source": [
    "df.head()"
   ]
  },
  {
   "cell_type": "code",
   "execution_count": null,
   "metadata": {
    "colab": {
     "base_uri": "https://localhost:8080/"
    },
    "executionInfo": {
     "elapsed": 526,
     "status": "ok",
     "timestamp": 1717655703676,
     "user": {
      "displayName": "Mohammad Ebrahim Darabi",
      "userId": "12922259800496717035"
     },
     "user_tz": -210
    },
    "id": "CadhG3bIlJs3",
    "outputId": "f4cdace9-94a7-45ad-b816-4d1c50c3a602"
   },
   "outputs": [],
   "source": [
    "len(df)"
   ]
  },
  {
   "cell_type": "code",
   "execution_count": null,
   "metadata": {
    "id": "KPp-0aO2F62B"
   },
   "outputs": [],
   "source": [
    "df_small = df[:200]"
   ]
  },
  {
   "cell_type": "code",
   "execution_count": null,
   "metadata": {
    "colab": {
     "base_uri": "https://localhost:8080/"
    },
    "executionInfo": {
     "elapsed": 8,
     "status": "ok",
     "timestamp": 1717655707555,
     "user": {
      "displayName": "Mohammad Ebrahim Darabi",
      "userId": "12922259800496717035"
     },
     "user_tz": -210
    },
    "id": "oxWlQ8dalJnr",
    "outputId": "3578bbb8-eb29-4114-c43c-86680f40ed55"
   },
   "outputs": [],
   "source": [
    "len(df_small)"
   ]
  },
  {
   "cell_type": "markdown",
   "metadata": {
    "id": "sEG40IFPRuYZ"
   },
   "source": [
    "If you run YouTube downeloader you will get this error:\n",
    "```AttributeError: 'NoneType' object has no attribute 'span'```\n",
    "\n",
    "I just patched this error by simply modifying {home}/.local/lib/python3.7/site-packages/pytube/cipher.py\n",
    "Line 411\n",
    "\n",
    "```transform_plan_raw = find_object_from_startpoint(raw_code, match.span()[1] - 1)\n",
    "to```\n",
    "\n",
    "```transform_plan_raw = js```\n",
    "And everything works fine.\n",
    "Hope this can solve your problem."
   ]
  },
  {
   "cell_type": "code",
   "execution_count": null,
   "metadata": {
    "id": "5w6lKDdKlJlH"
   },
   "outputs": [],
   "source": [
    "def check_valid_URLs(video_id):\n",
    "  checker_url = \"https://www.youtube.com/oembed?url=http://www.youtube.com/watch?v=\"\n",
    "  video_url = checker_url + video_id\n",
    "\n",
    "  request = requests.get(video_url)\n",
    "  if request.status_code == 200:\n",
    "    return True\n",
    "  else:\n",
    "    return False\n",
    "def download_video(video_id):\n",
    "\n",
    "  # where to save\n",
    "  SAVE_PATH = \"/content/videos/\" #to_do\n",
    "\n",
    "  # link of the video to be downloaded\n",
    "  link = f\"https://www.youtube.com/watch?v={video_id}\"\n",
    "\n",
    "  try:\n",
    "    # object creation using YouTube\n",
    "    yt = YouTube(link)\n",
    "    # Get all streams and filter for mp4 files\n",
    "    mp4_streams = yt.streams.filter(progressive=True, file_extension='mp4').order_by(\n",
    "        'resolution').desc().first()\n",
    "\n",
    "\n",
    "    # downloading the video\n",
    "    mp4_streams.download(output_path=SAVE_PATH)\n",
    "    output = 'Video downloaded successfully!'\n",
    "    return output\n",
    "  except:\n",
    "    output = \"Some Error!\"\n",
    "    return output"
   ]
  },
  {
   "cell_type": "code",
   "execution_count": null,
   "metadata": {
    "id": "5Y6kXjkXgQ56"
   },
   "outputs": [],
   "source": [
    "import os\n",
    "def my_mkdirs(folder):\n",
    "  if os.path.exists(folder)==False:\n",
    "    os.makedirs(folder)\n",
    "my_mkdirs('/content/videos/')"
   ]
  },
  {
   "cell_type": "code",
   "execution_count": null,
   "metadata": {
    "colab": {
     "base_uri": "https://localhost:8080/"
    },
    "collapsed": true,
    "executionInfo": {
     "elapsed": 9112,
     "status": "ok",
     "timestamp": 1717655921823,
     "user": {
      "displayName": "Mohammad Ebrahim Darabi",
      "userId": "12922259800496717035"
     },
     "user_tz": -210
    },
    "id": "T4Suhp-RlJiL",
    "outputId": "fd2d632d-6905-45cf-b807-497b78768818"
   },
   "outputs": [],
   "source": [
    "valid_urls = []\n",
    "count = len(df_small['video id'])\n",
    "i = 0\n",
    "for id in df_small['video id']:\n",
    "  validation = check_valid_URLs(id)\n",
    "  print(f'validation of {i} url in dataframe is: {validation}')\n",
    "  valid_urls.append(validation)\n",
    "  i += 1\n",
    "  if i == count:\n",
    "    break"
   ]
  },
  {
   "cell_type": "code",
   "execution_count": null,
   "metadata": {
    "colab": {
     "base_uri": "https://localhost:8080/"
    },
    "executionInfo": {
     "elapsed": 492,
     "status": "ok",
     "timestamp": 1717655926478,
     "user": {
      "displayName": "Mohammad Ebrahim Darabi",
      "userId": "12922259800496717035"
     },
     "user_tz": -210
    },
    "id": "7IgiLwUdlJfd",
    "outputId": "51654c12-c623-4bb9-c726-a050b2d09a7f"
   },
   "outputs": [],
   "source": [
    "df_small['is_valid'] = valid_urls"
   ]
  },
  {
   "cell_type": "code",
   "execution_count": null,
   "metadata": {
    "id": "kIADUuNdlJc0"
   },
   "outputs": [],
   "source": [
    "df_small = df_small[df_small['is_valid'] == True]"
   ]
  },
  {
   "cell_type": "code",
   "execution_count": null,
   "metadata": {
    "colab": {
     "base_uri": "https://localhost:8080/"
    },
    "executionInfo": {
     "elapsed": 12,
     "status": "ok",
     "timestamp": 1717655930190,
     "user": {
      "displayName": "Mohammad Ebrahim Darabi",
      "userId": "12922259800496717035"
     },
     "user_tz": -210
    },
    "id": "2rxqBKYylJaC",
    "outputId": "7846a313-2267-49e5-9235-5f2f332a5c97"
   },
   "outputs": [],
   "source": [
    "len(df_small)"
   ]
  },
  {
   "cell_type": "code",
   "execution_count": null,
   "metadata": {
    "id": "UZALhUxjWp3P"
   },
   "outputs": [],
   "source": [
    "df_small.reset_index(drop=True, inplace=True)"
   ]
  },
  {
   "cell_type": "code",
   "execution_count": null,
   "metadata": {
    "colab": {
     "base_uri": "https://localhost:8080/",
     "height": 434
    },
    "executionInfo": {
     "elapsed": 66,
     "status": "ok",
     "timestamp": 1717655934313,
     "user": {
      "displayName": "Mohammad Ebrahim Darabi",
      "userId": "12922259800496717035"
     },
     "user_tz": -210
    },
    "id": "FbUBiO5JWzUb",
    "outputId": "6866c461-6919-4607-b2ed-2920a6e7287f"
   },
   "outputs": [],
   "source": [
    "df_small.head()"
   ]
  },
  {
   "cell_type": "code",
   "execution_count": null,
   "metadata": {
    "colab": {
     "base_uri": "https://localhost:8080/"
    },
    "collapsed": true,
    "executionInfo": {
     "elapsed": 119285,
     "status": "ok",
     "timestamp": 1717656061868,
     "user": {
      "displayName": "Mohammad Ebrahim Darabi",
      "userId": "12922259800496717035"
     },
     "user_tz": -210
    },
    "id": "TkePzzZDj5EX",
    "outputId": "5f2000a9-fbbf-4ed1-d9d4-90c82c6c246b"
   },
   "outputs": [],
   "source": [
    "valid_video = []\n",
    "for id in df_small['video id']:\n",
    "  output = download_video(id)\n",
    "  if output == \"Some Error!\":\n",
    "    valid_video.append(False)\n",
    "  else:\n",
    "    valid_video.append(True)\n",
    "  print(output)"
   ]
  },
  {
   "cell_type": "code",
   "execution_count": null,
   "metadata": {
    "id": "NMREzcB5a2zl"
   },
   "outputs": [],
   "source": [
    "df_small['valid_video'] = valid_video"
   ]
  },
  {
   "cell_type": "code",
   "execution_count": null,
   "metadata": {
    "id": "x6qKEEFdbH4P"
   },
   "outputs": [],
   "source": [
    "df_small = df_small[df_small['valid_video'] == True]"
   ]
  },
  {
   "cell_type": "code",
   "execution_count": null,
   "metadata": {
    "id": "MawiL0YHbIqv"
   },
   "outputs": [],
   "source": [
    "df_small.reset_index(drop=True, inplace=True)"
   ]
  },
  {
   "cell_type": "markdown",
   "metadata": {
    "id": "AfQ28mnJobIP"
   },
   "source": [
    "get file names for videeos in videos folder"
   ]
  },
  {
   "cell_type": "code",
   "execution_count": null,
   "metadata": {
    "id": "vvY8hwygQzTX"
   },
   "outputs": [],
   "source": [
    "from os import listdir\n",
    "from os.path import isfile, join\n",
    "mypath = \"/content/videos/\"\n",
    "onlyfiles = [f for f in listdir(mypath) if isfile(join(mypath, f))]"
   ]
  },
  {
   "cell_type": "code",
   "execution_count": null,
   "metadata": {
    "colab": {
     "base_uri": "https://localhost:8080/"
    },
    "executionInfo": {
     "elapsed": 11,
     "status": "ok",
     "timestamp": 1717656864647,
     "user": {
      "displayName": "Mohammad Ebrahim Darabi",
      "userId": "12922259800496717035"
     },
     "user_tz": -210
    },
    "id": "c_9_kpS8QzQc",
    "outputId": "f7ae5921-85fb-4898-b9ed-1862e3acc3d5"
   },
   "outputs": [],
   "source": [
    "onlyfiles"
   ]
  },
  {
   "cell_type": "markdown",
   "metadata": {
    "id": "DJabDuJxolIt"
   },
   "source": [
    "# Get model and all reqoured preprocessing functions"
   ]
  },
  {
   "cell_type": "code",
   "execution_count": null,
   "metadata": {
    "id": "ttVnlY5waJm9"
   },
   "outputs": [],
   "source": [
    "def get_model_info(model_ID, device):\n",
    "  # Save the model to device\n",
    "  model = CLIPModel.from_pretrained(model_ID).to(device)\n",
    "   # Get the processor\n",
    "  processor = CLIPProcessor.from_pretrained(model_ID)\n",
    "  # Get the tokenizer\n",
    "  tokenizer = CLIPTokenizer.from_pretrained(model_ID)\n",
    "\n",
    "  return model, processor, tokenizer"
   ]
  },
  {
   "cell_type": "code",
   "execution_count": null,
   "metadata": {
    "id": "kbAOVCQqbDNn"
   },
   "outputs": [],
   "source": [
    "# Set the device\n",
    "device = 'cuda' if torch.cuda.is_available() else 'cpu'"
   ]
  },
  {
   "cell_type": "code",
   "execution_count": null,
   "metadata": {
    "colab": {
     "base_uri": "https://localhost:8080/",
     "height": 404,
     "referenced_widgets": [
      "d3ed0fe46ef1461ba4f4700ad97cb5d3",
      "b00066776c3a4e9e8c9f1d4b510eada2",
      "b404bfff3c2a464496a81e7b48bbb740",
      "cd97d4b1d19e45699fc50ab6ef6fb27c",
      "57ecff6f748540b498aa332ee401fab6",
      "72bac92e27284670a9eed3759d013578",
      "9921b20367ee4d518f0ee3109f1b42c9",
      "88056572271e432cb7e94bfea73c9cc6",
      "61b977439e6e4660b3dc805ca057be7a",
      "3e0a6a7a70f4477aa3f23e32695f9cbf",
      "9dc4b7c9386b4759a0b66c50b67bae8a",
      "c1c4ad84433a449293bfb45ecbb2ae42",
      "0aae1d34c5314df4b316f04f77b99d9c",
      "78f19d04f997452187682660ba23002a",
      "8602b42a2c3b49ccbbee98cd36d6521c",
      "ba53c69d0abf4a8f86dc6feaaf479b6b",
      "f403a1fde7da45f89a725c5519a77269",
      "564cddb594074d62a3939d01aabe1d21",
      "b163bff0d0c54e668c3e78e338bc3fbb",
      "821d6948f5074798919666142b403c13",
      "4875c87285ec47b3aa81da5c0ad38533",
      "0a9f75fd7cbf469f912007f2a3521df0",
      "0c5d0ddc41b04629b82cfe6aeaa55b81",
      "b4cb2c7f5bd9475daa6b62e8d79f23d3",
      "56913a5218d14d44a347c7ab81390213",
      "b7a1c596cb0948fca5ab19800294d81c",
      "5c0c77d14cea4a658a385250bbb9e6b7",
      "1a59724c2be74b7b9f40a619848dabfa",
      "cf9f09e94e2a437aa30e078143c9b3d2",
      "207aea1956fa4ccba894e828058fba20",
      "3c8263009cbe4220807e75a7882e40cc",
      "4d90e29518aa4820a2188a30e68032da",
      "73478d2155dd4c2abbd0ee7658d46e48",
      "c5ca440842e34e6c822ce65253017fa5",
      "74c733d17a9f4ed4ac306d89ccbdcaf4",
      "5c00513d30f842c9ab0c9b7df88a5c28",
      "d03f8c27f2bd4e9bae43b40253f7bdfa",
      "aeda802f1a10485496ed00ad8e45bbe2",
      "c5117a81acb64e1e99990904467d4d88",
      "ce8c3ee38b854b3fa20b5c285c62d222",
      "06ba7b9166144049846598da04869029",
      "c9155d6b470a44cbaf6480ceb206dcc7",
      "06d66ee5ab994f3fb0c61f0f853bff06",
      "9578f75e3e4343a38a405116ff320d67",
      "681199760eeb4982abbf3f347a9edcc8",
      "d1a508948c2e4f6ba153a867392c1ab1",
      "e76bd29e46f34034890d7a9b2361becc",
      "7163439ad05b44ad94ba05d42a7e8962",
      "1606de65d00d49d7a80e1d5eb05a8845",
      "7e3ad8f782754a36992041ff5e2d7617",
      "2fb8098cecd44e64be0b9d0f18691283",
      "19cb33a21fac4cb18f8bd4ef111bba69",
      "7cf07ad5455741e88666551e0279e68d",
      "840a39b2ae12440bb585249f4c6a9d84",
      "c1d531399201470892f196d2e2f476d5",
      "96aa2fca88ec41d4b79a5482ad0299dd",
      "a386cc8925a541658fa805a9f44bf848",
      "5c197d99816a4df6927a811265bc4507",
      "b234f2f3ee644b0cb6c9b63313ebb09c",
      "0614e9fe130041278af33d47de2020b9",
      "a6de113ff7d9466cbe54166b78129837",
      "71dd5a54710a47af8561c0fcf8dc1cb0",
      "60a5892be10c4cafb6c79b5b489ebdea",
      "6274b828c80b4ef7ab6253c8e58a8f7d",
      "b8607f6291fd43d29eb0d410c0138099",
      "adaae98ac7a14c60bc2b1835806875e5",
      "9a47cf520db846af881116a8bf858d4c",
      "546075b247ee4252874a3e64baa6d4b5",
      "0235b8ae8e2c41da9c177b963a8ef3a9",
      "a4cb0aec8868462fa31019727cd7fb1d",
      "0a1b6c381316466186059f6d5b4786e1",
      "bf5b7d5154164835b4c8401a6f67ac83",
      "ebcb2745838c4fa3b872ec24b721f8fd",
      "e9b297bea9c34b44b3db3f46fcf514d6",
      "d8dfb9542a21449fabf89b476f23da54",
      "4ac3292d1c7c4b6bb4f51933e8e120dc",
      "0b6c9b3c0bc44f34990d76d2ee9e029e",
      "ea3b096429f6497f907ed0e364a72f07",
      "e3238094bac44559b734d345c1beb3b0",
      "dae06a004d62478788037f4392335548",
      "8a2ecf189a144454937634cb4c7a0db0",
      "7f106721143942119854594138f39ddb",
      "5861cc3eafc64e4c90859e27adc320ef",
      "37a109e8a2a848b3ad3accd5ee64ee4c",
      "0dba67397dde422ebefa99e4e4edbdac",
      "8db3ad442a5e48d1b3b0d8b3bcbaf60b",
      "7eda39d8442e44018fcecc6609683f52",
      "b3567359242744139e0ef364b6124939"
     ]
    },
    "executionInfo": {
     "elapsed": 22318,
     "status": "ok",
     "timestamp": 1717656902538,
     "user": {
      "displayName": "Mohammad Ebrahim Darabi",
      "userId": "12922259800496717035"
     },
     "user_tz": -210
    },
    "id": "b2eJe9ubbL0u",
    "outputId": "e82aa808-fd81-4bda-d842-9e7b4f19e4f6"
   },
   "outputs": [],
   "source": [
    "model_ID = 'openai/clip-vit-base-patch32'\n",
    "model, processor, tokenizer = get_model_info(model_ID, device)"
   ]
  },
  {
   "cell_type": "markdown",
   "metadata": {
    "id": "nzvikUh_o44R"
   },
   "source": [
    "# Phase 1: Visual search"
   ]
  },
  {
   "cell_type": "markdown",
   "metadata": {
    "id": "7Q0Ww4-qpEEg"
   },
   "source": [
    "## Extract embbedings from videos"
   ]
  },
  {
   "cell_type": "code",
   "execution_count": null,
   "metadata": {
    "id": "YhBgczdqkoev"
   },
   "outputs": [],
   "source": [
    "def extract_embedding_from_video(video_path):\n",
    "  frames = []\n",
    "  cap = cv2.VideoCapture(video_path)\n",
    "  frame_rate = cap.get(cv2.CAP_PROP_FPS)\n",
    "  total_frames = int(cap.get(cv2.CAP_PROP_FRAME_COUNT))\n",
    "  total_seconds = total_frames / frame_rate\n",
    "  target_frame_count = int(total_seconds)\n",
    "  target_frame_index = 0\n",
    "  for i in range(target_frame_count):\n",
    "      cap.set(cv2.CAP_PROP_POS_FRAMES, target_frame_index)\n",
    "      ret, frame = cap.read()\n",
    "      # frame = cv2.resize(frame, (1280, 720))\n",
    "      frame = cv2.resize(frame, (224, 224))\n",
    "      if not ret:\n",
    "          break\n",
    "      frames.append(frame)\n",
    "      target_frame_index += int(frame_rate)\n",
    "  cap.release()\n",
    "\n",
    "  embeddings = []\n",
    "  for frame in frames:\n",
    "    image = processor(\n",
    "      text=None,\n",
    "      images = frame,\n",
    "      return_tensors='pt',\n",
    "    )['pixel_values'].to(device)\n",
    "    embedding = model.get_image_features(image)\n",
    "    embedding_as_np = embedding.cpu().detach().numpy()\n",
    "    embeddings.append(list(np.squeeze(embedding_as_np)))\n",
    "  embeddings = np.asarray(embeddings)\n",
    "\n",
    "  return np.mean(embeddings, axis=0)"
   ]
  },
  {
   "cell_type": "code",
   "execution_count": null,
   "metadata": {
    "id": "Z4Sud7X7koWu"
   },
   "outputs": [],
   "source": [
    "from tqdm.notebook import tqdm\n",
    "def extract_all_embedding(video_names):\n",
    "  embeddings = []\n",
    "  for i in tqdm(range(len(onlyfiles))):\n",
    "    file_name = onlyfiles[i]\n",
    "    video_path = f\"/content/videos/{file_name}\"\n",
    "    embedding = extract_embedding_from_video(video_path)\n",
    "    embeddings.append(embedding)\n",
    "  return embeddings"
   ]
  },
  {
   "cell_type": "code",
   "execution_count": null,
   "metadata": {
    "colab": {
     "base_uri": "https://localhost:8080/",
     "height": 81,
     "referenced_widgets": [
      "8bf14815df06454f85d166697b644139",
      "122996e0e42f4e42911df0fd725d1967",
      "39330c4598164399a3d98d984d293cdf",
      "14a6533dad7541d1be2faa50d9ff8583",
      "1d3e28dd33ba443db113c771664ef45d",
      "a4c45ee66de5461caa9e3facf6776982",
      "5ef42e66d19d4d4699f13a58948a7102",
      "72bcae9eff3e49f9b6846a3e873a2ca2",
      "24908ad6060d45259c218299886c77f2",
      "ca3009af34664759bfbecca56e6c1980",
      "f328c484342a4c52833bc8b6d9e9c510",
      "366c66de32284ba0b11533ee7b9253f8",
      "cef0af05b14749c780a044a13e27370d",
      "d0d0a4b20b514959a180fd052f134cc7",
      "65acc09aaf2247bfb8b2af8405fa173d",
      "4c92a7794b8d4284beaaa25f1a8c8c5b",
      "81d32728cf7342c8b4252e29a8be8b25",
      "2c2d471cf65047629464edd5922973f2",
      "3beb9735e75545b1844f55ad1b7b1557",
      "cb45d46e0f55425aa61ca74e4cccf042",
      "209d34ccbb084a07adbba664a7cb7f5f",
      "9e62bb05402948bbb49f75b1e4bbfdb2"
     ]
    },
    "executionInfo": {
     "elapsed": 1270337,
     "status": "ok",
     "timestamp": 1716633617434,
     "user": {
      "displayName": "Mohammad Ebrahim Darabi",
      "userId": "12922259800496717035"
     },
     "user_tz": -210
    },
    "id": "rUR8uDdos9ME",
    "outputId": "c1bcbdbf-875e-40fd-cc64-f3a6fe9dabb7"
   },
   "outputs": [],
   "source": [
    "embeddings = tqdm(extract_all_embedding(onlyfiles))"
   ]
  },
  {
   "cell_type": "markdown",
   "metadata": {
    "id": "xvXBCFkj4mEu"
   },
   "source": [
    "## Extract embedding from text"
   ]
  },
  {
   "cell_type": "code",
   "execution_count": null,
   "metadata": {
    "colab": {
     "base_uri": "https://localhost:8080/",
     "height": 185
    },
    "collapsed": true,
    "executionInfo": {
     "elapsed": 699,
     "status": "error",
     "timestamp": 1717656933762,
     "user": {
      "displayName": "Mohammad Ebrahim Darabi",
      "userId": "12922259800496717035"
     },
     "user_tz": -210
    },
    "id": "Kk1B8QSnWBXA",
    "outputId": "95094a90-10b1-49bd-dc67-a6fc3bf9f3d7"
   },
   "outputs": [],
   "source": [
    "embeddings_list = []\n",
    "for embedding in embeddings:\n",
    "  embeddings_list.append(embedding)"
   ]
  },
  {
   "cell_type": "code",
   "execution_count": null,
   "metadata": {
    "id": "M9QTrgMlkoRi"
   },
   "outputs": [],
   "source": [
    "def get_single_text_embedding(text):\n",
    "  inputs = tokenizer(text, return_tensors='pt').to(device)\n",
    "  text_embeddings = model.get_text_features(**inputs)\n",
    "  # Convert the embeddings to numpy array\n",
    "  embedding_as_np = text_embeddings.cpu().detach().numpy()\n",
    "\n",
    "  return np.squeeze(embedding_as_np)"
   ]
  },
  {
   "cell_type": "code",
   "execution_count": null,
   "metadata": {
    "id": "O8LX6Vw2koO6"
   },
   "outputs": [],
   "source": [
    "def get_all_text_embeddings(df, text_col):\n",
    "  df['text_embeddings'] = df[str(text_col)].apply(get_single_text_embedding)\n",
    "\n",
    "  return df"
   ]
  },
  {
   "cell_type": "code",
   "execution_count": null,
   "metadata": {
    "id": "S1zG4p70koMT"
   },
   "outputs": [],
   "source": [
    "df_small = get_all_text_embeddings(df_small, 'name')"
   ]
  },
  {
   "cell_type": "code",
   "execution_count": null,
   "metadata": {
    "colab": {
     "base_uri": "https://localhost:8080/",
     "height": 573
    },
    "executionInfo": {
     "elapsed": 28,
     "status": "ok",
     "timestamp": 1717657035779,
     "user": {
      "displayName": "Mohammad Ebrahim Darabi",
      "userId": "12922259800496717035"
     },
     "user_tz": -210
    },
    "id": "ASBBv3smkoJo",
    "outputId": "b2d0e830-c48c-45a7-9448-95eb3e7e248f"
   },
   "outputs": [],
   "source": [
    "df_small.head()"
   ]
  },
  {
   "cell_type": "markdown",
   "metadata": {
    "id": "IuPmW4eW5bhE"
   },
   "source": [
    "## Dimension reduction using PCA"
   ]
  },
  {
   "cell_type": "code",
   "execution_count": null,
   "metadata": {
    "id": "NbCDvE6M6VQr"
   },
   "outputs": [],
   "source": [
    "# n_components = min(random_number, num_images, len(features))\n",
    "n_components = min(100, len(df_small), len(df_small['text_embeddings'][0]))"
   ]
  },
  {
   "cell_type": "code",
   "execution_count": null,
   "metadata": {
    "colab": {
     "base_uri": "https://localhost:8080/",
     "height": 537
    },
    "executionInfo": {
     "elapsed": 734,
     "status": "ok",
     "timestamp": 1716634162776,
     "user": {
      "displayName": "Mohammad Ebrahim Darabi",
      "userId": "12922259800496717035"
     },
     "user_tz": -210
    },
    "id": "lJOpeh355ZPn",
    "outputId": "64b19077-dece-4598-f2c2-020fff8bd556"
   },
   "outputs": [],
   "source": [
    "# Check trade-off between num-dimensions and variance\n",
    "pca = PCA(n_components)\n",
    "pca.fit(list(df_small['text_embeddings']))\n",
    "matplotlib.style.use('seaborn')\n",
    "plt.plot(range(1, n_components + 1), pca.explained_variance_ratio_, 'o--', markersize=4)\n",
    "plt.title('Variance for each PCA dimension')\n",
    "plt.xlabel('PCA Dimension')\n",
    "plt.ylabel('Variance')\n",
    "plt.grid(True)\n",
    "plt.show()"
   ]
  },
  {
   "cell_type": "code",
   "execution_count": null,
   "metadata": {
    "id": "W9osq9wR5ZNM"
   },
   "outputs": [],
   "source": [
    "# Number of features for tex-image search after dimension reduction\n",
    "num_feature_dimensions = 30"
   ]
  },
  {
   "cell_type": "code",
   "execution_count": null,
   "metadata": {
    "colab": {
     "base_uri": "https://localhost:8080/"
    },
    "executionInfo": {
     "elapsed": 8,
     "status": "ok",
     "timestamp": 1717657055737,
     "user": {
      "displayName": "Mohammad Ebrahim Darabi",
      "userId": "12922259800496717035"
     },
     "user_tz": -210
    },
    "id": "5kJi9I2IZPZP",
    "outputId": "f3a36d3b-d186-4664-9cf4-0a3b250fa807"
   },
   "outputs": [],
   "source": [
    "df_small['text_embeddings'].shape"
   ]
  },
  {
   "cell_type": "code",
   "execution_count": null,
   "metadata": {
    "id": "Yw1tC1yp5ZKl"
   },
   "outputs": [],
   "source": [
    "# Apply dimention reduction on text_embedding using PCA\n",
    "pca = PCA(n_components=num_feature_dimensions)\n",
    "pca.fit(list(df_small['text_embeddings']))\n",
    "text_embedding_compressed = pca.transform(list(df_small['text_embeddings']))\n",
    "text_embedding_compressed = text_embedding_compressed.tolist()"
   ]
  },
  {
   "cell_type": "code",
   "execution_count": null,
   "metadata": {
    "colab": {
     "base_uri": "https://localhost:8080/"
    },
    "executionInfo": {
     "elapsed": 11,
     "status": "ok",
     "timestamp": 1717657064083,
     "user": {
      "displayName": "Mohammad Ebrahim Darabi",
      "userId": "12922259800496717035"
     },
     "user_tz": -210
    },
    "id": "4PnO4GAW5ZIG",
    "outputId": "fc72c479-9bd7-44b1-cd5d-7bbdcb6fba56"
   },
   "outputs": [],
   "source": [
    "len(text_embedding_compressed), len(text_embedding_compressed[0])"
   ]
  },
  {
   "cell_type": "code",
   "execution_count": null,
   "metadata": {
    "id": "QPCwVn6x5ZFI"
   },
   "outputs": [],
   "source": [
    "video_embeddings_compressed = pca.transform(embeddings_list)\n",
    "video_embeddings_compressed = video_embeddings_compressed.tolist()"
   ]
  },
  {
   "cell_type": "code",
   "execution_count": null,
   "metadata": {
    "colab": {
     "base_uri": "https://localhost:8080/"
    },
    "executionInfo": {
     "elapsed": 694,
     "status": "ok",
     "timestamp": 1716634218086,
     "user": {
      "displayName": "Mohammad Ebrahim Darabi",
      "userId": "12922259800496717035"
     },
     "user_tz": -210
    },
    "id": "j8x-fQjEXxAZ",
    "outputId": "8797f95a-03cd-430a-c356-34e7544c646e"
   },
   "outputs": [],
   "source": [
    "len(video_embeddings_compressed), len(video_embeddings_compressed[0])"
   ]
  },
  {
   "cell_type": "code",
   "execution_count": null,
   "metadata": {
    "colab": {
     "base_uri": "https://localhost:8080/",
     "height": 166
    },
    "collapsed": true,
    "executionInfo": {
     "elapsed": 511,
     "status": "error",
     "timestamp": 1717657072405,
     "user": {
      "displayName": "Mohammad Ebrahim Darabi",
      "userId": "12922259800496717035"
     },
     "user_tz": -210
    },
    "id": "htD2eoBf5ZCw",
    "outputId": "31c37537-23c7-4c20-9744-dbe73fd4e6c5"
   },
   "outputs": [],
   "source": [
    "df_small['video_embeddings_compressed'] = video_embeddings_compressed"
   ]
  },
  {
   "cell_type": "code",
   "execution_count": null,
   "metadata": {
    "id": "hm92_zUy5ZAi"
   },
   "outputs": [],
   "source": [
    "df_small['text_embeddings_compressed'] = text_embedding_compressed"
   ]
  },
  {
   "cell_type": "markdown",
   "metadata": {
    "id": "t1cdFRCRU6L9"
   },
   "source": [
    "## Pinecone"
   ]
  },
  {
   "cell_type": "code",
   "execution_count": null,
   "metadata": {
    "id": "NENFHLIDU51T"
   },
   "outputs": [],
   "source": [
    "from pinecone import Pinecone, ServerlessSpec"
   ]
  },
  {
   "cell_type": "code",
   "execution_count": null,
   "metadata": {
    "id": "nvW2xo6ZU5yn"
   },
   "outputs": [],
   "source": [
    "API_KEY = 'f58afe0a-3959-4cb0-9020-f5d06db8ef14'"
   ]
  },
  {
   "cell_type": "code",
   "execution_count": null,
   "metadata": {
    "id": "tnYk5XQCU5v8"
   },
   "outputs": [],
   "source": [
    "pc = Pinecone(api_key=API_KEY)"
   ]
  },
  {
   "cell_type": "code",
   "execution_count": null,
   "metadata": {
    "id": "VNO2GWlvU5tu"
   },
   "outputs": [],
   "source": [
    "import os\n",
    "CLOUD = os.environ.get('PINECONE_CLOUD') or 'aws'\n",
    "REGION = os.environ.get('PINECONE_REGION') or 'us-east-1'\n",
    "\n",
    "SPEC = ServerlessSpec(cloud=CLOUD, region=REGION)"
   ]
  },
  {
   "cell_type": "code",
   "execution_count": null,
   "metadata": {
    "colab": {
     "base_uri": "https://localhost:8080/"
    },
    "executionInfo": {
     "elapsed": 1962,
     "status": "ok",
     "timestamp": 1717657103774,
     "user": {
      "displayName": "Mohammad Ebrahim Darabi",
      "userId": "12922259800496717035"
     },
     "user_tz": -210
    },
    "id": "QQEJWjIPVW3b",
    "outputId": "f0a9d99c-3af2-4f18-a276-99a29a3eb9b8"
   },
   "outputs": [],
   "source": [
    "# Create a severless index\n",
    "import time\n",
    "\n",
    "INDEX_NAME = \"tex-video\"\n",
    "\n",
    "existing_indexes = [\n",
    "    index_info[\"name\"] for index_info in pc.list_indexes()\n",
    "]\n",
    "\n",
    "# check if index already exists (it shouldn't if this is first time)\n",
    "if INDEX_NAME not in existing_indexes:\n",
    "    # if does not exist, create index\n",
    "    pc.create_index(\n",
    "        INDEX_NAME,\n",
    "        dimension=num_feature_dimensions,  # dimensionality of minilm\n",
    "        metric='cosine',\n",
    "        spec=SPEC\n",
    "    )\n",
    "    # wait for index to be initialized\n",
    "    while not pc.describe_index(INDEX_NAME).status['ready']:\n",
    "        time.sleep(1)\n",
    "\n",
    "# connect to index\n",
    "my_index = pc.Index(INDEX_NAME)\n",
    "time.sleep(1)\n",
    "# view index stats\n",
    "my_index.describe_index_stats()"
   ]
  },
  {
   "cell_type": "code",
   "execution_count": null,
   "metadata": {
    "id": "u2Xv7Oh6VW0m"
   },
   "outputs": [],
   "source": [
    "df_small['vector_id'] = df_small.index\n",
    "df_small['vector_id'] = df_small['vector_id'].apply(str)"
   ]
  },
  {
   "cell_type": "code",
   "execution_count": null,
   "metadata": {
    "id": "a542m2okVWx4"
   },
   "outputs": [],
   "source": [
    "# Get all the metadata\n",
    "final_metadata = []\n",
    "for index in range(len(df_small)):\n",
    "  final_metadata.append({\n",
    "      'ID': index,\n",
    "      'caption': df_small.iloc[index]['name'],\n",
    "      'image': df_small.iloc[index]['video id']\n",
    "  })\n",
    "\n",
    "video_embeddings_compressed_IDs = df_small.vector_id.tolist()\n",
    "video_embeddings = [arr for arr in df_small.video_embeddings_compressed]\n",
    "# Create the single list of directory format to insert\n",
    "# data_to_upsert = list(zip(image_IDs, image_embeddings, final_metadata))"
   ]
  },
  {
   "cell_type": "code",
   "execution_count": null,
   "metadata": {
    "id": "Zv7FyNirU5q-"
   },
   "outputs": [],
   "source": [
    "vectors = [\n",
    "    {'id': id,\n",
    "    'values': values,\n",
    "    'metadata': metadata} for id, values, metadata in zip(image_IDs, video_embeddings, final_metadata)\n",
    "]"
   ]
  },
  {
   "cell_type": "code",
   "execution_count": null,
   "metadata": {
    "colab": {
     "base_uri": "https://localhost:8080/"
    },
    "executionInfo": {
     "elapsed": 1045,
     "status": "ok",
     "timestamp": 1716634444566,
     "user": {
      "displayName": "Mohammad Ebrahim Darabi",
      "userId": "12922259800496717035"
     },
     "user_tz": -210
    },
    "id": "1XJPN3865XfF",
    "outputId": "bd70486e-0618-4be6-e876-31a98bdf2c7f"
   },
   "outputs": [],
   "source": [
    "my_index.upsert(vectors=vectors)"
   ]
  },
  {
   "cell_type": "code",
   "execution_count": null,
   "metadata": {
    "colab": {
     "base_uri": "https://localhost:8080/"
    },
    "executionInfo": {
     "elapsed": 487,
     "status": "ok",
     "timestamp": 1717657121699,
     "user": {
      "displayName": "Mohammad Ebrahim Darabi",
      "userId": "12922259800496717035"
     },
     "user_tz": -210
    },
    "id": "BGV_T99tYx1L",
    "outputId": "22d3a9df-b35f-410d-d912-3a45bc9d1acd"
   },
   "outputs": [],
   "source": [
    "# Check index size for each namespace\n",
    "my_index.describe_index_stats()"
   ]
  },
  {
   "cell_type": "code",
   "execution_count": null,
   "metadata": {
    "id": "qASWuiKacvWA"
   },
   "outputs": [],
   "source": [
    "def pinecone_quey(text):\n",
    "  query_embedding = get_single_text_embedding(text)\n",
    "  compressed_text = pca.transform(np.expand_dims(query_embedding, axis=0))\n",
    "  squeezed_text = np.squeeze(compressed_text).tolist()\n",
    "  my_index.query(vector=squeezed_text, top_k=4, include_metadata=True)\n"
   ]
  },
  {
   "cell_type": "code",
   "execution_count": null,
   "metadata": {
    "id": "x8raoID3ZFHh"
   },
   "outputs": [],
   "source": [
    "# Get the query text\n",
    "text_query = df_small.iloc[10]['name']\n",
    "\n",
    "# Get the caption embedding\n",
    "query_embedding = get_single_text_embedding(text_query)\n"
   ]
  },
  {
   "cell_type": "code",
   "execution_count": null,
   "metadata": {
    "colab": {
     "base_uri": "https://localhost:8080/"
    },
    "executionInfo": {
     "elapsed": 10,
     "status": "ok",
     "timestamp": 1717659366635,
     "user": {
      "displayName": "Mohammad Ebrahim Darabi",
      "userId": "12922259800496717035"
     },
     "user_tz": -210
    },
    "id": "kvqK0YfoZGhi",
    "outputId": "1b8fde1c-d414-4e32-a690-0c17811170c4"
   },
   "outputs": [],
   "source": [
    "np.expand_dims(query_embedding, axis=0).shape"
   ]
  },
  {
   "cell_type": "code",
   "execution_count": null,
   "metadata": {
    "id": "elguSc8vYxyr"
   },
   "outputs": [],
   "source": [
    "# Get the query text\n",
    "text_query = df_small.iloc[10]['name']\n",
    "\n",
    "# Get the caption embedding\n",
    "query_embedding = get_single_text_embedding(text_query)\n",
    "\n",
    "# Reduce the dimension\n",
    "compressed_text = pca.transform(np.expand_dims(query_embedding, axis=0))\n",
    "\n",
    "# Squeeze embedding\n",
    "squeezed_text = np.squeeze(compressed_text).tolist()"
   ]
  },
  {
   "cell_type": "code",
   "execution_count": null,
   "metadata": {
    "colab": {
     "base_uri": "https://localhost:8080/"
    },
    "executionInfo": {
     "elapsed": 7,
     "status": "ok",
     "timestamp": 1717659369848,
     "user": {
      "displayName": "Mohammad Ebrahim Darabi",
      "userId": "12922259800496717035"
     },
     "user_tz": -210
    },
    "id": "CWUJ5tNTYxwB",
    "outputId": "cbf4605b-d0f6-4820-9fdb-a325b50bba52"
   },
   "outputs": [],
   "source": [
    "squeezed_text"
   ]
  },
  {
   "cell_type": "code",
   "execution_count": null,
   "metadata": {
    "id": "SWk1haCiYxsu"
   },
   "outputs": [],
   "source": [
    "matches = my_index.query(vector=squeezed_text, top_k=4, include_metadata=True)"
   ]
  },
  {
   "cell_type": "code",
   "execution_count": null,
   "metadata": {
    "colab": {
     "base_uri": "https://localhost:8080/"
    },
    "executionInfo": {
     "elapsed": 455,
     "status": "ok",
     "timestamp": 1717663240138,
     "user": {
      "displayName": "Mohammad Ebrahim Darabi",
      "userId": "12922259800496717035"
     },
     "user_tz": -210
    },
    "id": "zQuHbKVttOGF",
    "outputId": "89909350-c7d0-48f3-d54f-9368ec7bbe21"
   },
   "outputs": [],
   "source": [
    "len(matches['matches'])"
   ]
  },
  {
   "cell_type": "code",
   "execution_count": null,
   "metadata": {
    "colab": {
     "base_uri": "https://localhost:8080/"
    },
    "executionInfo": {
     "elapsed": 505,
     "status": "ok",
     "timestamp": 1717659394211,
     "user": {
      "displayName": "Mohammad Ebrahim Darabi",
      "userId": "12922259800496717035"
     },
     "user_tz": -210
    },
    "id": "TljR-rdbek87",
    "outputId": "de626a37-bd27-4f34-e578-c23b19ccc7a3"
   },
   "outputs": [],
   "source": [
    "matches"
   ]
  },
  {
   "cell_type": "markdown",
   "metadata": {
    "id": "jBjL6WyqWGor"
   },
   "source": [
    "# Phase 2: Text search"
   ]
  },
  {
   "cell_type": "code",
   "execution_count": null,
   "metadata": {
    "colab": {
     "base_uri": "https://localhost:8080/"
    },
    "executionInfo": {
     "elapsed": 15122,
     "status": "ok",
     "timestamp": 1717657271307,
     "user": {
      "displayName": "Mohammad Ebrahim Darabi",
      "userId": "12922259800496717035"
     },
     "user_tz": -210
    },
    "id": "zG0XXkxHYxqE",
    "outputId": "d0062cea-2833-4f7f-961a-ab103f437050"
   },
   "outputs": [],
   "source": [
    "!pip install elasticsearch"
   ]
  },
  {
   "cell_type": "code",
   "execution_count": null,
   "metadata": {
    "id": "g--xF0T-Yxn2"
   },
   "outputs": [],
   "source": [
    "from elasticsearch import Elasticsearch\n",
    "from datetime import datetime\n",
    "\n",
    "cloud_id = \"Test_in_Python:ZWFzdHVzMi5henVyZS5lbGFzdGljLWNsb3VkLmNvbTo0NDMkYmUwNzcyNzAwMWY5NDA4MGFhZTFhYWRjYjJmODcwMWEkZWVmNDlkNTRjMTAxNDI5MDlhYjA2OGVmNTA1NGY1MzE=\"\n",
    "api_key = \"N2ZLcDU0OEJfekFzMDkzOWRsclE6VjZYdkhRRVBSYldCMEpCVGRuZFJDQQ==\"\n",
    "\n",
    "client = Elasticsearch(cloud_id=cloud_id, api_key=api_key)"
   ]
  },
  {
   "cell_type": "code",
   "execution_count": null,
   "metadata": {
    "colab": {
     "base_uri": "https://localhost:8080/"
    },
    "executionInfo": {
     "elapsed": 765,
     "status": "ok",
     "timestamp": 1717657305041,
     "user": {
      "displayName": "Mohammad Ebrahim Darabi",
      "userId": "12922259800496717035"
     },
     "user_tz": -210
    },
    "id": "6C1xbOAtYxk_",
    "outputId": "bbadb6e9-3043-4841-83d2-5f0e3ac70103"
   },
   "outputs": [],
   "source": [
    "print(client.info())"
   ]
  },
  {
   "cell_type": "code",
   "execution_count": null,
   "metadata": {
    "colab": {
     "base_uri": "https://localhost:8080/"
    },
    "executionInfo": {
     "elapsed": 15,
     "status": "ok",
     "timestamp": 1717657505186,
     "user": {
      "displayName": "Mohammad Ebrahim Darabi",
      "userId": "12922259800496717035"
     },
     "user_tz": -210
    },
    "id": "2VPr05F8WpIm",
    "outputId": "f688dcf9-c4a7-4472-fd02-49a08bfbab50"
   },
   "outputs": [],
   "source": [
    "from elasticsearch import helpers\n",
    "\n",
    "def gendata():\n",
    "  for i in range(len(df_small)):\n",
    "    yield {\n",
    "        \"_index\": \"videos\",\n",
    "        \"video_id\": df_small.iloc[i][\"video id\"],\n",
    "        \"name\": df_small.iloc[i][\"name\"],\n",
    "        \"channel\": df_small.iloc[i][\"channel\"],\n",
    "        \"category\": df_small.iloc[i][\"category\"]\n",
    "    }\n",
    "\n",
    "helpers.bulk(client, gendata())"
   ]
  },
  {
   "cell_type": "markdown",
   "metadata": {
    "id": "DNdubyZ2Xkr2"
   },
   "source": [
    "# Phase 3: Serving"
   ]
  },
  {
   "cell_type": "code",
   "execution_count": null,
   "metadata": {
    "id": "o0fX7dphWpGe"
   },
   "outputs": [],
   "source": [
    "def pretty_elastic(response):\n",
    "  outputs = []\n",
    "  if len(response[\"hits\"][\"hits\"]) == 0:\n",
    "    print(\"Your search returned no results\")\n",
    "  else:\n",
    "    for hit in response[\"hits\"][\"hits\"]:\n",
    "      id = hit[\"_id\"]\n",
    "      score = hit[\"_score\"]\n",
    "      video_id = hit[\"_source\"][\"video_id\"]\n",
    "      name = hit[\"_source\"][\"name\"]\n",
    "      channel = hit[\"_source\"][\"channel\"]\n",
    "      category = hit[\"_source\"][\"category\"]\n",
    "      pretty_elastic_output = f\"\\nID: {id}\\nVideo ID: {video_id}\\nName: {name}\\nChannel: {channel}\\nCategory: {category}\\nScore: {score}\"\n",
    "      outputs.append(pretty_elastic_output)\n",
    "  return outputs"
   ]
  },
  {
   "cell_type": "code",
   "execution_count": null,
   "metadata": {
    "id": "3b1t5FLeWpEC"
   },
   "outputs": [],
   "source": [
    "def elastic_query(text):\n",
    "  response = client.search(\n",
    "      index=\"videos\",\n",
    "      query={\n",
    "        \"bool\": {\n",
    "          \"must\": [\n",
    "            {\n",
    "              \"match\": {\n",
    "                \"name\": {\n",
    "                  \"query\": text,\n",
    "                  \"fuzziness\": \"auto\"\n",
    "                }\n",
    "              }\n",
    "            }\n",
    "          ],\n",
    "          \"should\": [\n",
    "            {\n",
    "              \"match\": {\n",
    "                \"channel\": {\n",
    "                  \"query\": text,\n",
    "                  \"fuzziness\": \"auto\"\n",
    "                }\n",
    "              }\n",
    "            },\n",
    "            {\n",
    "              \"match\": {\n",
    "                \"category\": {\n",
    "                  \"query\": text,\n",
    "                  \"fuzziness\": \"auto\"\n",
    "                }\n",
    "              }\n",
    "            }\n",
    "          ]\n",
    "        }\n",
    "      }\n",
    "  )\n",
    "\n",
    "  elastic_output = pretty_elastic(response)\n",
    "  return elastic_output"
   ]
  },
  {
   "cell_type": "code",
   "execution_count": null,
   "metadata": {
    "id": "nyFFj-DsnZUd"
   },
   "outputs": [],
   "source": [
    "elastic_output = elastic_query(\"actors are in studio\")"
   ]
  },
  {
   "cell_type": "code",
   "execution_count": null,
   "metadata": {
    "colab": {
     "base_uri": "https://localhost:8080/"
    },
    "executionInfo": {
     "elapsed": 510,
     "status": "ok",
     "timestamp": 1717662943243,
     "user": {
      "displayName": "Mohammad Ebrahim Darabi",
      "userId": "12922259800496717035"
     },
     "user_tz": -210
    },
    "id": "MVaku3P6sB7g",
    "outputId": "6cdcfbc2-1e08-41a3-e33d-2222be9869a9"
   },
   "outputs": [],
   "source": [
    "for output in elastic_output:\n",
    "  print(output)"
   ]
  },
  {
   "cell_type": "code",
   "execution_count": null,
   "metadata": {
    "id": "exIYUagFeoem"
   },
   "outputs": [],
   "source": [
    "def pretty_pinecone(matches):\n",
    "  output = []\n",
    "  if len(matches['matches']) == 0:\n",
    "    print(\"Your search returned no result!\")\n",
    "  else:\n",
    "    for item in matches['matches']:\n",
    "      video_id = item['metadata']['image']\n",
    "      caption = item['metadata']['caption']\n",
    "      score = item['score']\n",
    "      id = item['metadata']['ID']\n",
    "      pretty_pinecone_output = f\"\\nID: {id}\\nVideo_ID: {video_id}\\nCaption: {caption}\\nScore: {score}\"\n",
    "      output.append(pretty_pinecone_output)\n",
    "  return output"
   ]
  },
  {
   "cell_type": "code",
   "execution_count": null,
   "metadata": {
    "id": "rcBNx0EpWpAS"
   },
   "outputs": [],
   "source": [
    "def pinecone_query(text):\n",
    "  query_embedding = get_single_text_embedding(text)\n",
    "  compressed_text = pca.transform(np.expand_dims(query_embedding, axis=0))\n",
    "  squeezed_text = np.squeeze(compressed_text).tolist()\n",
    "  matches = my_index.query(vector=squeezed_text, top_k=10, include_metadata=True)\n",
    "  pinecone_output = pretty_pinecone(matches)\n",
    "  return pinecone_output\n"
   ]
  },
  {
   "cell_type": "code",
   "execution_count": null,
   "metadata": {
    "id": "4hunHdznsOrI"
   },
   "outputs": [],
   "source": [
    "pinecone_output = pinecone_query(\"actors are in studio\")"
   ]
  },
  {
   "cell_type": "code",
   "execution_count": null,
   "metadata": {
    "colab": {
     "base_uri": "https://localhost:8080/"
    },
    "executionInfo": {
     "elapsed": 398,
     "status": "ok",
     "timestamp": 1717663290815,
     "user": {
      "displayName": "Mohammad Ebrahim Darabi",
      "userId": "12922259800496717035"
     },
     "user_tz": -210
    },
    "id": "yZWPsBZyskUw",
    "outputId": "36695a38-06a8-4652-c586-124beb7e225a"
   },
   "outputs": [],
   "source": [
    "for output in pinecone_output:\n",
    "  print(output)"
   ]
  },
  {
   "cell_type": "code",
   "execution_count": null,
   "metadata": {
    "id": "0cWOEu6bWo9m"
   },
   "outputs": [],
   "source": [
    "def fusing_answers(text):\n",
    "  elastic_output = elastic_query(text)\n",
    "  pinecone_output = pinecone_query(text)\n",
    "  for i, item in enumerate(zip(pinecone_output, elastic_output)):\n",
    "    print(\n",
    "        f\"Number {i} Pinecone match: {item[0]}\\n\\nNumber {i} Elastic match: {item[1]}\"\n",
    "    )"
   ]
  },
  {
   "cell_type": "code",
   "execution_count": null,
   "metadata": {
    "colab": {
     "base_uri": "https://localhost:8080/"
    },
    "executionInfo": {
     "elapsed": 1157,
     "status": "ok",
     "timestamp": 1717663381833,
     "user": {
      "displayName": "Mohammad Ebrahim Darabi",
      "userId": "12922259800496717035"
     },
     "user_tz": -210
    },
    "id": "PpJipJx9Wo62",
    "outputId": "35808c2d-eb06-4658-9729-984b21f9f854"
   },
   "outputs": [],
   "source": [
    "fusing_answers(\"crisis and cratus studio\")"
   ]
  },
  {
   "cell_type": "code",
   "execution_count": null,
   "metadata": {
    "id": "ZAYcUALKWo4J"
   },
   "outputs": [],
   "source": []
  },
  {
   "cell_type": "code",
   "execution_count": null,
   "metadata": {
    "id": "vxy3z_0oWo1b"
   },
   "outputs": [],
   "source": []
  },
  {
   "cell_type": "code",
   "execution_count": null,
   "metadata": {
    "id": "v8YcRk3FWoyw"
   },
   "outputs": [],
   "source": []
  },
  {
   "cell_type": "code",
   "execution_count": null,
   "metadata": {
    "id": "A3QZvVXIWowO"
   },
   "outputs": [],
   "source": []
  },
  {
   "cell_type": "code",
   "execution_count": null,
   "metadata": {
    "id": "fsRj4kJ6WotZ"
   },
   "outputs": [],
   "source": []
  },
  {
   "cell_type": "code",
   "execution_count": null,
   "metadata": {
    "id": "UipT1AfTWoqo"
   },
   "outputs": [],
   "source": []
  },
  {
   "cell_type": "code",
   "execution_count": null,
   "metadata": {
    "id": "gl3_-J4bYxh-"
   },
   "outputs": [],
   "source": []
  },
  {
   "cell_type": "code",
   "execution_count": null,
   "metadata": {
    "id": "O0flm0m3Ytxz"
   },
   "outputs": [],
   "source": []
  }
 ],
 "metadata": {
  "colab": {
   "authorship_tag": "ABX9TyOs+g7k3naQC71tWUUuGljs",
   "provenance": []
  },
  "kernelspec": {
   "display_name": "Python 3",
   "name": "python3"
  },
  "language_info": {
   "name": "python"
  },
  "widgets": {
   "application/vnd.jupyter.widget-state+json": {
    "0235b8ae8e2c41da9c177b963a8ef3a9": {
     "model_module": "@jupyter-widgets/controls",
     "model_module_version": "1.5.0",
     "model_name": "FloatProgressModel",
     "state": {
      "_dom_classes": [],
      "_model_module": "@jupyter-widgets/controls",
      "_model_module_version": "1.5.0",
      "_model_name": "FloatProgressModel",
      "_view_count": null,
      "_view_module": "@jupyter-widgets/controls",
      "_view_module_version": "1.5.0",
      "_view_name": "ProgressView",
      "bar_style": "success",
      "description": "",
      "description_tooltip": null,
      "layout": "IPY_MODEL_e9b297bea9c34b44b3db3f46fcf514d6",
      "max": 2224041,
      "min": 0,
      "orientation": "horizontal",
      "style": "IPY_MODEL_d8dfb9542a21449fabf89b476f23da54",
      "value": 2224041
     }
    },
    "0614e9fe130041278af33d47de2020b9": {
     "model_module": "@jupyter-widgets/base",
     "model_module_version": "1.2.0",
     "model_name": "LayoutModel",
     "state": {
      "_model_module": "@jupyter-widgets/base",
      "_model_module_version": "1.2.0",
      "_model_name": "LayoutModel",
      "_view_count": null,
      "_view_module": "@jupyter-widgets/base",
      "_view_module_version": "1.2.0",
      "_view_name": "LayoutView",
      "align_content": null,
      "align_items": null,
      "align_self": null,
      "border": null,
      "bottom": null,
      "display": null,
      "flex": null,
      "flex_flow": null,
      "grid_area": null,
      "grid_auto_columns": null,
      "grid_auto_flow": null,
      "grid_auto_rows": null,
      "grid_column": null,
      "grid_gap": null,
      "grid_row": null,
      "grid_template_areas": null,
      "grid_template_columns": null,
      "grid_template_rows": null,
      "height": null,
      "justify_content": null,
      "justify_items": null,
      "left": null,
      "margin": null,
      "max_height": null,
      "max_width": null,
      "min_height": null,
      "min_width": null,
      "object_fit": null,
      "object_position": null,
      "order": null,
      "overflow": null,
      "overflow_x": null,
      "overflow_y": null,
      "padding": null,
      "right": null,
      "top": null,
      "visibility": null,
      "width": null
     }
    },
    "06ba7b9166144049846598da04869029": {
     "model_module": "@jupyter-widgets/base",
     "model_module_version": "1.2.0",
     "model_name": "LayoutModel",
     "state": {
      "_model_module": "@jupyter-widgets/base",
      "_model_module_version": "1.2.0",
      "_model_name": "LayoutModel",
      "_view_count": null,
      "_view_module": "@jupyter-widgets/base",
      "_view_module_version": "1.2.0",
      "_view_name": "LayoutView",
      "align_content": null,
      "align_items": null,
      "align_self": null,
      "border": null,
      "bottom": null,
      "display": null,
      "flex": null,
      "flex_flow": null,
      "grid_area": null,
      "grid_auto_columns": null,
      "grid_auto_flow": null,
      "grid_auto_rows": null,
      "grid_column": null,
      "grid_gap": null,
      "grid_row": null,
      "grid_template_areas": null,
      "grid_template_columns": null,
      "grid_template_rows": null,
      "height": null,
      "justify_content": null,
      "justify_items": null,
      "left": null,
      "margin": null,
      "max_height": null,
      "max_width": null,
      "min_height": null,
      "min_width": null,
      "object_fit": null,
      "object_position": null,
      "order": null,
      "overflow": null,
      "overflow_x": null,
      "overflow_y": null,
      "padding": null,
      "right": null,
      "top": null,
      "visibility": null,
      "width": null
     }
    },
    "06d66ee5ab994f3fb0c61f0f853bff06": {
     "model_module": "@jupyter-widgets/base",
     "model_module_version": "1.2.0",
     "model_name": "LayoutModel",
     "state": {
      "_model_module": "@jupyter-widgets/base",
      "_model_module_version": "1.2.0",
      "_model_name": "LayoutModel",
      "_view_count": null,
      "_view_module": "@jupyter-widgets/base",
      "_view_module_version": "1.2.0",
      "_view_name": "LayoutView",
      "align_content": null,
      "align_items": null,
      "align_self": null,
      "border": null,
      "bottom": null,
      "display": null,
      "flex": null,
      "flex_flow": null,
      "grid_area": null,
      "grid_auto_columns": null,
      "grid_auto_flow": null,
      "grid_auto_rows": null,
      "grid_column": null,
      "grid_gap": null,
      "grid_row": null,
      "grid_template_areas": null,
      "grid_template_columns": null,
      "grid_template_rows": null,
      "height": null,
      "justify_content": null,
      "justify_items": null,
      "left": null,
      "margin": null,
      "max_height": null,
      "max_width": null,
      "min_height": null,
      "min_width": null,
      "object_fit": null,
      "object_position": null,
      "order": null,
      "overflow": null,
      "overflow_x": null,
      "overflow_y": null,
      "padding": null,
      "right": null,
      "top": null,
      "visibility": null,
      "width": null
     }
    },
    "0a1b6c381316466186059f6d5b4786e1": {
     "model_module": "@jupyter-widgets/base",
     "model_module_version": "1.2.0",
     "model_name": "LayoutModel",
     "state": {
      "_model_module": "@jupyter-widgets/base",
      "_model_module_version": "1.2.0",
      "_model_name": "LayoutModel",
      "_view_count": null,
      "_view_module": "@jupyter-widgets/base",
      "_view_module_version": "1.2.0",
      "_view_name": "LayoutView",
      "align_content": null,
      "align_items": null,
      "align_self": null,
      "border": null,
      "bottom": null,
      "display": null,
      "flex": null,
      "flex_flow": null,
      "grid_area": null,
      "grid_auto_columns": null,
      "grid_auto_flow": null,
      "grid_auto_rows": null,
      "grid_column": null,
      "grid_gap": null,
      "grid_row": null,
      "grid_template_areas": null,
      "grid_template_columns": null,
      "grid_template_rows": null,
      "height": null,
      "justify_content": null,
      "justify_items": null,
      "left": null,
      "margin": null,
      "max_height": null,
      "max_width": null,
      "min_height": null,
      "min_width": null,
      "object_fit": null,
      "object_position": null,
      "order": null,
      "overflow": null,
      "overflow_x": null,
      "overflow_y": null,
      "padding": null,
      "right": null,
      "top": null,
      "visibility": null,
      "width": null
     }
    },
    "0a9f75fd7cbf469f912007f2a3521df0": {
     "model_module": "@jupyter-widgets/controls",
     "model_module_version": "1.5.0",
     "model_name": "DescriptionStyleModel",
     "state": {
      "_model_module": "@jupyter-widgets/controls",
      "_model_module_version": "1.5.0",
      "_model_name": "DescriptionStyleModel",
      "_view_count": null,
      "_view_module": "@jupyter-widgets/base",
      "_view_module_version": "1.2.0",
      "_view_name": "StyleView",
      "description_width": ""
     }
    },
    "0aae1d34c5314df4b316f04f77b99d9c": {
     "model_module": "@jupyter-widgets/controls",
     "model_module_version": "1.5.0",
     "model_name": "HTMLModel",
     "state": {
      "_dom_classes": [],
      "_model_module": "@jupyter-widgets/controls",
      "_model_module_version": "1.5.0",
      "_model_name": "HTMLModel",
      "_view_count": null,
      "_view_module": "@jupyter-widgets/controls",
      "_view_module_version": "1.5.0",
      "_view_name": "HTMLView",
      "description": "",
      "description_tooltip": null,
      "layout": "IPY_MODEL_f403a1fde7da45f89a725c5519a77269",
      "placeholder": "​",
      "style": "IPY_MODEL_564cddb594074d62a3939d01aabe1d21",
      "value": "pytorch_model.bin: 100%"
     }
    },
    "0b6c9b3c0bc44f34990d76d2ee9e029e": {
     "model_module": "@jupyter-widgets/controls",
     "model_module_version": "1.5.0",
     "model_name": "DescriptionStyleModel",
     "state": {
      "_model_module": "@jupyter-widgets/controls",
      "_model_module_version": "1.5.0",
      "_model_name": "DescriptionStyleModel",
      "_view_count": null,
      "_view_module": "@jupyter-widgets/base",
      "_view_module_version": "1.2.0",
      "_view_name": "StyleView",
      "description_width": ""
     }
    },
    "0c5d0ddc41b04629b82cfe6aeaa55b81": {
     "model_module": "@jupyter-widgets/controls",
     "model_module_version": "1.5.0",
     "model_name": "HBoxModel",
     "state": {
      "_dom_classes": [],
      "_model_module": "@jupyter-widgets/controls",
      "_model_module_version": "1.5.0",
      "_model_name": "HBoxModel",
      "_view_count": null,
      "_view_module": "@jupyter-widgets/controls",
      "_view_module_version": "1.5.0",
      "_view_name": "HBoxView",
      "box_style": "",
      "children": [
       "IPY_MODEL_b4cb2c7f5bd9475daa6b62e8d79f23d3",
       "IPY_MODEL_56913a5218d14d44a347c7ab81390213",
       "IPY_MODEL_b7a1c596cb0948fca5ab19800294d81c"
      ],
      "layout": "IPY_MODEL_5c0c77d14cea4a658a385250bbb9e6b7"
     }
    },
    "0dba67397dde422ebefa99e4e4edbdac": {
     "model_module": "@jupyter-widgets/base",
     "model_module_version": "1.2.0",
     "model_name": "LayoutModel",
     "state": {
      "_model_module": "@jupyter-widgets/base",
      "_model_module_version": "1.2.0",
      "_model_name": "LayoutModel",
      "_view_count": null,
      "_view_module": "@jupyter-widgets/base",
      "_view_module_version": "1.2.0",
      "_view_name": "LayoutView",
      "align_content": null,
      "align_items": null,
      "align_self": null,
      "border": null,
      "bottom": null,
      "display": null,
      "flex": null,
      "flex_flow": null,
      "grid_area": null,
      "grid_auto_columns": null,
      "grid_auto_flow": null,
      "grid_auto_rows": null,
      "grid_column": null,
      "grid_gap": null,
      "grid_row": null,
      "grid_template_areas": null,
      "grid_template_columns": null,
      "grid_template_rows": null,
      "height": null,
      "justify_content": null,
      "justify_items": null,
      "left": null,
      "margin": null,
      "max_height": null,
      "max_width": null,
      "min_height": null,
      "min_width": null,
      "object_fit": null,
      "object_position": null,
      "order": null,
      "overflow": null,
      "overflow_x": null,
      "overflow_y": null,
      "padding": null,
      "right": null,
      "top": null,
      "visibility": null,
      "width": null
     }
    },
    "122996e0e42f4e42911df0fd725d1967": {
     "model_module": "@jupyter-widgets/controls",
     "model_module_version": "1.5.0",
     "model_name": "HTMLModel",
     "state": {
      "_dom_classes": [],
      "_model_module": "@jupyter-widgets/controls",
      "_model_module_version": "1.5.0",
      "_model_name": "HTMLModel",
      "_view_count": null,
      "_view_module": "@jupyter-widgets/controls",
      "_view_module_version": "1.5.0",
      "_view_name": "HTMLView",
      "description": "",
      "description_tooltip": null,
      "layout": "IPY_MODEL_a4c45ee66de5461caa9e3facf6776982",
      "placeholder": "​",
      "style": "IPY_MODEL_5ef42e66d19d4d4699f13a58948a7102",
      "value": "100%"
     }
    },
    "14a6533dad7541d1be2faa50d9ff8583": {
     "model_module": "@jupyter-widgets/controls",
     "model_module_version": "1.5.0",
     "model_name": "HTMLModel",
     "state": {
      "_dom_classes": [],
      "_model_module": "@jupyter-widgets/controls",
      "_model_module_version": "1.5.0",
      "_model_name": "HTMLModel",
      "_view_count": null,
      "_view_module": "@jupyter-widgets/controls",
      "_view_module_version": "1.5.0",
      "_view_name": "HTMLView",
      "description": "",
      "description_tooltip": null,
      "layout": "IPY_MODEL_ca3009af34664759bfbecca56e6c1980",
      "placeholder": "​",
      "style": "IPY_MODEL_f328c484342a4c52833bc8b6d9e9c510",
      "value": " 30/30 [33:27&lt;00:00, 48.05s/it]"
     }
    },
    "1606de65d00d49d7a80e1d5eb05a8845": {
     "model_module": "@jupyter-widgets/base",
     "model_module_version": "1.2.0",
     "model_name": "LayoutModel",
     "state": {
      "_model_module": "@jupyter-widgets/base",
      "_model_module_version": "1.2.0",
      "_model_name": "LayoutModel",
      "_view_count": null,
      "_view_module": "@jupyter-widgets/base",
      "_view_module_version": "1.2.0",
      "_view_name": "LayoutView",
      "align_content": null,
      "align_items": null,
      "align_self": null,
      "border": null,
      "bottom": null,
      "display": null,
      "flex": null,
      "flex_flow": null,
      "grid_area": null,
      "grid_auto_columns": null,
      "grid_auto_flow": null,
      "grid_auto_rows": null,
      "grid_column": null,
      "grid_gap": null,
      "grid_row": null,
      "grid_template_areas": null,
      "grid_template_columns": null,
      "grid_template_rows": null,
      "height": null,
      "justify_content": null,
      "justify_items": null,
      "left": null,
      "margin": null,
      "max_height": null,
      "max_width": null,
      "min_height": null,
      "min_width": null,
      "object_fit": null,
      "object_position": null,
      "order": null,
      "overflow": null,
      "overflow_x": null,
      "overflow_y": null,
      "padding": null,
      "right": null,
      "top": null,
      "visibility": null,
      "width": null
     }
    },
    "19cb33a21fac4cb18f8bd4ef111bba69": {
     "model_module": "@jupyter-widgets/base",
     "model_module_version": "1.2.0",
     "model_name": "LayoutModel",
     "state": {
      "_model_module": "@jupyter-widgets/base",
      "_model_module_version": "1.2.0",
      "_model_name": "LayoutModel",
      "_view_count": null,
      "_view_module": "@jupyter-widgets/base",
      "_view_module_version": "1.2.0",
      "_view_name": "LayoutView",
      "align_content": null,
      "align_items": null,
      "align_self": null,
      "border": null,
      "bottom": null,
      "display": null,
      "flex": null,
      "flex_flow": null,
      "grid_area": null,
      "grid_auto_columns": null,
      "grid_auto_flow": null,
      "grid_auto_rows": null,
      "grid_column": null,
      "grid_gap": null,
      "grid_row": null,
      "grid_template_areas": null,
      "grid_template_columns": null,
      "grid_template_rows": null,
      "height": null,
      "justify_content": null,
      "justify_items": null,
      "left": null,
      "margin": null,
      "max_height": null,
      "max_width": null,
      "min_height": null,
      "min_width": null,
      "object_fit": null,
      "object_position": null,
      "order": null,
      "overflow": null,
      "overflow_x": null,
      "overflow_y": null,
      "padding": null,
      "right": null,
      "top": null,
      "visibility": null,
      "width": null
     }
    },
    "1a59724c2be74b7b9f40a619848dabfa": {
     "model_module": "@jupyter-widgets/base",
     "model_module_version": "1.2.0",
     "model_name": "LayoutModel",
     "state": {
      "_model_module": "@jupyter-widgets/base",
      "_model_module_version": "1.2.0",
      "_model_name": "LayoutModel",
      "_view_count": null,
      "_view_module": "@jupyter-widgets/base",
      "_view_module_version": "1.2.0",
      "_view_name": "LayoutView",
      "align_content": null,
      "align_items": null,
      "align_self": null,
      "border": null,
      "bottom": null,
      "display": null,
      "flex": null,
      "flex_flow": null,
      "grid_area": null,
      "grid_auto_columns": null,
      "grid_auto_flow": null,
      "grid_auto_rows": null,
      "grid_column": null,
      "grid_gap": null,
      "grid_row": null,
      "grid_template_areas": null,
      "grid_template_columns": null,
      "grid_template_rows": null,
      "height": null,
      "justify_content": null,
      "justify_items": null,
      "left": null,
      "margin": null,
      "max_height": null,
      "max_width": null,
      "min_height": null,
      "min_width": null,
      "object_fit": null,
      "object_position": null,
      "order": null,
      "overflow": null,
      "overflow_x": null,
      "overflow_y": null,
      "padding": null,
      "right": null,
      "top": null,
      "visibility": null,
      "width": null
     }
    },
    "1d3e28dd33ba443db113c771664ef45d": {
     "model_module": "@jupyter-widgets/base",
     "model_module_version": "1.2.0",
     "model_name": "LayoutModel",
     "state": {
      "_model_module": "@jupyter-widgets/base",
      "_model_module_version": "1.2.0",
      "_model_name": "LayoutModel",
      "_view_count": null,
      "_view_module": "@jupyter-widgets/base",
      "_view_module_version": "1.2.0",
      "_view_name": "LayoutView",
      "align_content": null,
      "align_items": null,
      "align_self": null,
      "border": null,
      "bottom": null,
      "display": null,
      "flex": null,
      "flex_flow": null,
      "grid_area": null,
      "grid_auto_columns": null,
      "grid_auto_flow": null,
      "grid_auto_rows": null,
      "grid_column": null,
      "grid_gap": null,
      "grid_row": null,
      "grid_template_areas": null,
      "grid_template_columns": null,
      "grid_template_rows": null,
      "height": null,
      "justify_content": null,
      "justify_items": null,
      "left": null,
      "margin": null,
      "max_height": null,
      "max_width": null,
      "min_height": null,
      "min_width": null,
      "object_fit": null,
      "object_position": null,
      "order": null,
      "overflow": null,
      "overflow_x": null,
      "overflow_y": null,
      "padding": null,
      "right": null,
      "top": null,
      "visibility": null,
      "width": null
     }
    },
    "207aea1956fa4ccba894e828058fba20": {
     "model_module": "@jupyter-widgets/base",
     "model_module_version": "1.2.0",
     "model_name": "LayoutModel",
     "state": {
      "_model_module": "@jupyter-widgets/base",
      "_model_module_version": "1.2.0",
      "_model_name": "LayoutModel",
      "_view_count": null,
      "_view_module": "@jupyter-widgets/base",
      "_view_module_version": "1.2.0",
      "_view_name": "LayoutView",
      "align_content": null,
      "align_items": null,
      "align_self": null,
      "border": null,
      "bottom": null,
      "display": null,
      "flex": null,
      "flex_flow": null,
      "grid_area": null,
      "grid_auto_columns": null,
      "grid_auto_flow": null,
      "grid_auto_rows": null,
      "grid_column": null,
      "grid_gap": null,
      "grid_row": null,
      "grid_template_areas": null,
      "grid_template_columns": null,
      "grid_template_rows": null,
      "height": null,
      "justify_content": null,
      "justify_items": null,
      "left": null,
      "margin": null,
      "max_height": null,
      "max_width": null,
      "min_height": null,
      "min_width": null,
      "object_fit": null,
      "object_position": null,
      "order": null,
      "overflow": null,
      "overflow_x": null,
      "overflow_y": null,
      "padding": null,
      "right": null,
      "top": null,
      "visibility": null,
      "width": null
     }
    },
    "209d34ccbb084a07adbba664a7cb7f5f": {
     "model_module": "@jupyter-widgets/base",
     "model_module_version": "1.2.0",
     "model_name": "LayoutModel",
     "state": {
      "_model_module": "@jupyter-widgets/base",
      "_model_module_version": "1.2.0",
      "_model_name": "LayoutModel",
      "_view_count": null,
      "_view_module": "@jupyter-widgets/base",
      "_view_module_version": "1.2.0",
      "_view_name": "LayoutView",
      "align_content": null,
      "align_items": null,
      "align_self": null,
      "border": null,
      "bottom": null,
      "display": null,
      "flex": null,
      "flex_flow": null,
      "grid_area": null,
      "grid_auto_columns": null,
      "grid_auto_flow": null,
      "grid_auto_rows": null,
      "grid_column": null,
      "grid_gap": null,
      "grid_row": null,
      "grid_template_areas": null,
      "grid_template_columns": null,
      "grid_template_rows": null,
      "height": null,
      "justify_content": null,
      "justify_items": null,
      "left": null,
      "margin": null,
      "max_height": null,
      "max_width": null,
      "min_height": null,
      "min_width": null,
      "object_fit": null,
      "object_position": null,
      "order": null,
      "overflow": null,
      "overflow_x": null,
      "overflow_y": null,
      "padding": null,
      "right": null,
      "top": null,
      "visibility": null,
      "width": null
     }
    },
    "24908ad6060d45259c218299886c77f2": {
     "model_module": "@jupyter-widgets/controls",
     "model_module_version": "1.5.0",
     "model_name": "ProgressStyleModel",
     "state": {
      "_model_module": "@jupyter-widgets/controls",
      "_model_module_version": "1.5.0",
      "_model_name": "ProgressStyleModel",
      "_view_count": null,
      "_view_module": "@jupyter-widgets/base",
      "_view_module_version": "1.2.0",
      "_view_name": "StyleView",
      "bar_color": null,
      "description_width": ""
     }
    },
    "2c2d471cf65047629464edd5922973f2": {
     "model_module": "@jupyter-widgets/controls",
     "model_module_version": "1.5.0",
     "model_name": "DescriptionStyleModel",
     "state": {
      "_model_module": "@jupyter-widgets/controls",
      "_model_module_version": "1.5.0",
      "_model_name": "DescriptionStyleModel",
      "_view_count": null,
      "_view_module": "@jupyter-widgets/base",
      "_view_module_version": "1.2.0",
      "_view_name": "StyleView",
      "description_width": ""
     }
    },
    "2fb8098cecd44e64be0b9d0f18691283": {
     "model_module": "@jupyter-widgets/controls",
     "model_module_version": "1.5.0",
     "model_name": "DescriptionStyleModel",
     "state": {
      "_model_module": "@jupyter-widgets/controls",
      "_model_module_version": "1.5.0",
      "_model_name": "DescriptionStyleModel",
      "_view_count": null,
      "_view_module": "@jupyter-widgets/base",
      "_view_module_version": "1.2.0",
      "_view_name": "StyleView",
      "description_width": ""
     }
    },
    "366c66de32284ba0b11533ee7b9253f8": {
     "model_module": "@jupyter-widgets/controls",
     "model_module_version": "1.5.0",
     "model_name": "HBoxModel",
     "state": {
      "_dom_classes": [],
      "_model_module": "@jupyter-widgets/controls",
      "_model_module_version": "1.5.0",
      "_model_name": "HBoxModel",
      "_view_count": null,
      "_view_module": "@jupyter-widgets/controls",
      "_view_module_version": "1.5.0",
      "_view_name": "HBoxView",
      "box_style": "",
      "children": [
       "IPY_MODEL_cef0af05b14749c780a044a13e27370d",
       "IPY_MODEL_d0d0a4b20b514959a180fd052f134cc7",
       "IPY_MODEL_65acc09aaf2247bfb8b2af8405fa173d"
      ],
      "layout": "IPY_MODEL_4c92a7794b8d4284beaaa25f1a8c8c5b"
     }
    },
    "37a109e8a2a848b3ad3accd5ee64ee4c": {
     "model_module": "@jupyter-widgets/controls",
     "model_module_version": "1.5.0",
     "model_name": "DescriptionStyleModel",
     "state": {
      "_model_module": "@jupyter-widgets/controls",
      "_model_module_version": "1.5.0",
      "_model_name": "DescriptionStyleModel",
      "_view_count": null,
      "_view_module": "@jupyter-widgets/base",
      "_view_module_version": "1.2.0",
      "_view_name": "StyleView",
      "description_width": ""
     }
    },
    "39330c4598164399a3d98d984d293cdf": {
     "model_module": "@jupyter-widgets/controls",
     "model_module_version": "1.5.0",
     "model_name": "FloatProgressModel",
     "state": {
      "_dom_classes": [],
      "_model_module": "@jupyter-widgets/controls",
      "_model_module_version": "1.5.0",
      "_model_name": "FloatProgressModel",
      "_view_count": null,
      "_view_module": "@jupyter-widgets/controls",
      "_view_module_version": "1.5.0",
      "_view_name": "ProgressView",
      "bar_style": "success",
      "description": "",
      "description_tooltip": null,
      "layout": "IPY_MODEL_72bcae9eff3e49f9b6846a3e873a2ca2",
      "max": 30,
      "min": 0,
      "orientation": "horizontal",
      "style": "IPY_MODEL_24908ad6060d45259c218299886c77f2",
      "value": 30
     }
    },
    "3beb9735e75545b1844f55ad1b7b1557": {
     "model_module": "@jupyter-widgets/base",
     "model_module_version": "1.2.0",
     "model_name": "LayoutModel",
     "state": {
      "_model_module": "@jupyter-widgets/base",
      "_model_module_version": "1.2.0",
      "_model_name": "LayoutModel",
      "_view_count": null,
      "_view_module": "@jupyter-widgets/base",
      "_view_module_version": "1.2.0",
      "_view_name": "LayoutView",
      "align_content": null,
      "align_items": null,
      "align_self": null,
      "border": null,
      "bottom": null,
      "display": null,
      "flex": null,
      "flex_flow": null,
      "grid_area": null,
      "grid_auto_columns": null,
      "grid_auto_flow": null,
      "grid_auto_rows": null,
      "grid_column": null,
      "grid_gap": null,
      "grid_row": null,
      "grid_template_areas": null,
      "grid_template_columns": null,
      "grid_template_rows": null,
      "height": null,
      "justify_content": null,
      "justify_items": null,
      "left": null,
      "margin": null,
      "max_height": null,
      "max_width": null,
      "min_height": null,
      "min_width": null,
      "object_fit": null,
      "object_position": null,
      "order": null,
      "overflow": null,
      "overflow_x": null,
      "overflow_y": null,
      "padding": null,
      "right": null,
      "top": null,
      "visibility": null,
      "width": null
     }
    },
    "3c8263009cbe4220807e75a7882e40cc": {
     "model_module": "@jupyter-widgets/controls",
     "model_module_version": "1.5.0",
     "model_name": "ProgressStyleModel",
     "state": {
      "_model_module": "@jupyter-widgets/controls",
      "_model_module_version": "1.5.0",
      "_model_name": "ProgressStyleModel",
      "_view_count": null,
      "_view_module": "@jupyter-widgets/base",
      "_view_module_version": "1.2.0",
      "_view_name": "StyleView",
      "bar_color": null,
      "description_width": ""
     }
    },
    "3e0a6a7a70f4477aa3f23e32695f9cbf": {
     "model_module": "@jupyter-widgets/base",
     "model_module_version": "1.2.0",
     "model_name": "LayoutModel",
     "state": {
      "_model_module": "@jupyter-widgets/base",
      "_model_module_version": "1.2.0",
      "_model_name": "LayoutModel",
      "_view_count": null,
      "_view_module": "@jupyter-widgets/base",
      "_view_module_version": "1.2.0",
      "_view_name": "LayoutView",
      "align_content": null,
      "align_items": null,
      "align_self": null,
      "border": null,
      "bottom": null,
      "display": null,
      "flex": null,
      "flex_flow": null,
      "grid_area": null,
      "grid_auto_columns": null,
      "grid_auto_flow": null,
      "grid_auto_rows": null,
      "grid_column": null,
      "grid_gap": null,
      "grid_row": null,
      "grid_template_areas": null,
      "grid_template_columns": null,
      "grid_template_rows": null,
      "height": null,
      "justify_content": null,
      "justify_items": null,
      "left": null,
      "margin": null,
      "max_height": null,
      "max_width": null,
      "min_height": null,
      "min_width": null,
      "object_fit": null,
      "object_position": null,
      "order": null,
      "overflow": null,
      "overflow_x": null,
      "overflow_y": null,
      "padding": null,
      "right": null,
      "top": null,
      "visibility": null,
      "width": null
     }
    },
    "4875c87285ec47b3aa81da5c0ad38533": {
     "model_module": "@jupyter-widgets/base",
     "model_module_version": "1.2.0",
     "model_name": "LayoutModel",
     "state": {
      "_model_module": "@jupyter-widgets/base",
      "_model_module_version": "1.2.0",
      "_model_name": "LayoutModel",
      "_view_count": null,
      "_view_module": "@jupyter-widgets/base",
      "_view_module_version": "1.2.0",
      "_view_name": "LayoutView",
      "align_content": null,
      "align_items": null,
      "align_self": null,
      "border": null,
      "bottom": null,
      "display": null,
      "flex": null,
      "flex_flow": null,
      "grid_area": null,
      "grid_auto_columns": null,
      "grid_auto_flow": null,
      "grid_auto_rows": null,
      "grid_column": null,
      "grid_gap": null,
      "grid_row": null,
      "grid_template_areas": null,
      "grid_template_columns": null,
      "grid_template_rows": null,
      "height": null,
      "justify_content": null,
      "justify_items": null,
      "left": null,
      "margin": null,
      "max_height": null,
      "max_width": null,
      "min_height": null,
      "min_width": null,
      "object_fit": null,
      "object_position": null,
      "order": null,
      "overflow": null,
      "overflow_x": null,
      "overflow_y": null,
      "padding": null,
      "right": null,
      "top": null,
      "visibility": null,
      "width": null
     }
    },
    "4ac3292d1c7c4b6bb4f51933e8e120dc": {
     "model_module": "@jupyter-widgets/base",
     "model_module_version": "1.2.0",
     "model_name": "LayoutModel",
     "state": {
      "_model_module": "@jupyter-widgets/base",
      "_model_module_version": "1.2.0",
      "_model_name": "LayoutModel",
      "_view_count": null,
      "_view_module": "@jupyter-widgets/base",
      "_view_module_version": "1.2.0",
      "_view_name": "LayoutView",
      "align_content": null,
      "align_items": null,
      "align_self": null,
      "border": null,
      "bottom": null,
      "display": null,
      "flex": null,
      "flex_flow": null,
      "grid_area": null,
      "grid_auto_columns": null,
      "grid_auto_flow": null,
      "grid_auto_rows": null,
      "grid_column": null,
      "grid_gap": null,
      "grid_row": null,
      "grid_template_areas": null,
      "grid_template_columns": null,
      "grid_template_rows": null,
      "height": null,
      "justify_content": null,
      "justify_items": null,
      "left": null,
      "margin": null,
      "max_height": null,
      "max_width": null,
      "min_height": null,
      "min_width": null,
      "object_fit": null,
      "object_position": null,
      "order": null,
      "overflow": null,
      "overflow_x": null,
      "overflow_y": null,
      "padding": null,
      "right": null,
      "top": null,
      "visibility": null,
      "width": null
     }
    },
    "4c92a7794b8d4284beaaa25f1a8c8c5b": {
     "model_module": "@jupyter-widgets/base",
     "model_module_version": "1.2.0",
     "model_name": "LayoutModel",
     "state": {
      "_model_module": "@jupyter-widgets/base",
      "_model_module_version": "1.2.0",
      "_model_name": "LayoutModel",
      "_view_count": null,
      "_view_module": "@jupyter-widgets/base",
      "_view_module_version": "1.2.0",
      "_view_name": "LayoutView",
      "align_content": null,
      "align_items": null,
      "align_self": null,
      "border": null,
      "bottom": null,
      "display": null,
      "flex": null,
      "flex_flow": null,
      "grid_area": null,
      "grid_auto_columns": null,
      "grid_auto_flow": null,
      "grid_auto_rows": null,
      "grid_column": null,
      "grid_gap": null,
      "grid_row": null,
      "grid_template_areas": null,
      "grid_template_columns": null,
      "grid_template_rows": null,
      "height": null,
      "justify_content": null,
      "justify_items": null,
      "left": null,
      "margin": null,
      "max_height": null,
      "max_width": null,
      "min_height": null,
      "min_width": null,
      "object_fit": null,
      "object_position": null,
      "order": null,
      "overflow": null,
      "overflow_x": null,
      "overflow_y": null,
      "padding": null,
      "right": null,
      "top": null,
      "visibility": null,
      "width": null
     }
    },
    "4d90e29518aa4820a2188a30e68032da": {
     "model_module": "@jupyter-widgets/base",
     "model_module_version": "1.2.0",
     "model_name": "LayoutModel",
     "state": {
      "_model_module": "@jupyter-widgets/base",
      "_model_module_version": "1.2.0",
      "_model_name": "LayoutModel",
      "_view_count": null,
      "_view_module": "@jupyter-widgets/base",
      "_view_module_version": "1.2.0",
      "_view_name": "LayoutView",
      "align_content": null,
      "align_items": null,
      "align_self": null,
      "border": null,
      "bottom": null,
      "display": null,
      "flex": null,
      "flex_flow": null,
      "grid_area": null,
      "grid_auto_columns": null,
      "grid_auto_flow": null,
      "grid_auto_rows": null,
      "grid_column": null,
      "grid_gap": null,
      "grid_row": null,
      "grid_template_areas": null,
      "grid_template_columns": null,
      "grid_template_rows": null,
      "height": null,
      "justify_content": null,
      "justify_items": null,
      "left": null,
      "margin": null,
      "max_height": null,
      "max_width": null,
      "min_height": null,
      "min_width": null,
      "object_fit": null,
      "object_position": null,
      "order": null,
      "overflow": null,
      "overflow_x": null,
      "overflow_y": null,
      "padding": null,
      "right": null,
      "top": null,
      "visibility": null,
      "width": null
     }
    },
    "546075b247ee4252874a3e64baa6d4b5": {
     "model_module": "@jupyter-widgets/controls",
     "model_module_version": "1.5.0",
     "model_name": "HTMLModel",
     "state": {
      "_dom_classes": [],
      "_model_module": "@jupyter-widgets/controls",
      "_model_module_version": "1.5.0",
      "_model_name": "HTMLModel",
      "_view_count": null,
      "_view_module": "@jupyter-widgets/controls",
      "_view_module_version": "1.5.0",
      "_view_name": "HTMLView",
      "description": "",
      "description_tooltip": null,
      "layout": "IPY_MODEL_bf5b7d5154164835b4c8401a6f67ac83",
      "placeholder": "​",
      "style": "IPY_MODEL_ebcb2745838c4fa3b872ec24b721f8fd",
      "value": "tokenizer.json: 100%"
     }
    },
    "564cddb594074d62a3939d01aabe1d21": {
     "model_module": "@jupyter-widgets/controls",
     "model_module_version": "1.5.0",
     "model_name": "DescriptionStyleModel",
     "state": {
      "_model_module": "@jupyter-widgets/controls",
      "_model_module_version": "1.5.0",
      "_model_name": "DescriptionStyleModel",
      "_view_count": null,
      "_view_module": "@jupyter-widgets/base",
      "_view_module_version": "1.2.0",
      "_view_name": "StyleView",
      "description_width": ""
     }
    },
    "56913a5218d14d44a347c7ab81390213": {
     "model_module": "@jupyter-widgets/controls",
     "model_module_version": "1.5.0",
     "model_name": "FloatProgressModel",
     "state": {
      "_dom_classes": [],
      "_model_module": "@jupyter-widgets/controls",
      "_model_module_version": "1.5.0",
      "_model_name": "FloatProgressModel",
      "_view_count": null,
      "_view_module": "@jupyter-widgets/controls",
      "_view_module_version": "1.5.0",
      "_view_name": "ProgressView",
      "bar_style": "success",
      "description": "",
      "description_tooltip": null,
      "layout": "IPY_MODEL_207aea1956fa4ccba894e828058fba20",
      "max": 316,
      "min": 0,
      "orientation": "horizontal",
      "style": "IPY_MODEL_3c8263009cbe4220807e75a7882e40cc",
      "value": 316
     }
    },
    "57ecff6f748540b498aa332ee401fab6": {
     "model_module": "@jupyter-widgets/base",
     "model_module_version": "1.2.0",
     "model_name": "LayoutModel",
     "state": {
      "_model_module": "@jupyter-widgets/base",
      "_model_module_version": "1.2.0",
      "_model_name": "LayoutModel",
      "_view_count": null,
      "_view_module": "@jupyter-widgets/base",
      "_view_module_version": "1.2.0",
      "_view_name": "LayoutView",
      "align_content": null,
      "align_items": null,
      "align_self": null,
      "border": null,
      "bottom": null,
      "display": null,
      "flex": null,
      "flex_flow": null,
      "grid_area": null,
      "grid_auto_columns": null,
      "grid_auto_flow": null,
      "grid_auto_rows": null,
      "grid_column": null,
      "grid_gap": null,
      "grid_row": null,
      "grid_template_areas": null,
      "grid_template_columns": null,
      "grid_template_rows": null,
      "height": null,
      "justify_content": null,
      "justify_items": null,
      "left": null,
      "margin": null,
      "max_height": null,
      "max_width": null,
      "min_height": null,
      "min_width": null,
      "object_fit": null,
      "object_position": null,
      "order": null,
      "overflow": null,
      "overflow_x": null,
      "overflow_y": null,
      "padding": null,
      "right": null,
      "top": null,
      "visibility": null,
      "width": null
     }
    },
    "5861cc3eafc64e4c90859e27adc320ef": {
     "model_module": "@jupyter-widgets/base",
     "model_module_version": "1.2.0",
     "model_name": "LayoutModel",
     "state": {
      "_model_module": "@jupyter-widgets/base",
      "_model_module_version": "1.2.0",
      "_model_name": "LayoutModel",
      "_view_count": null,
      "_view_module": "@jupyter-widgets/base",
      "_view_module_version": "1.2.0",
      "_view_name": "LayoutView",
      "align_content": null,
      "align_items": null,
      "align_self": null,
      "border": null,
      "bottom": null,
      "display": null,
      "flex": null,
      "flex_flow": null,
      "grid_area": null,
      "grid_auto_columns": null,
      "grid_auto_flow": null,
      "grid_auto_rows": null,
      "grid_column": null,
      "grid_gap": null,
      "grid_row": null,
      "grid_template_areas": null,
      "grid_template_columns": null,
      "grid_template_rows": null,
      "height": null,
      "justify_content": null,
      "justify_items": null,
      "left": null,
      "margin": null,
      "max_height": null,
      "max_width": null,
      "min_height": null,
      "min_width": null,
      "object_fit": null,
      "object_position": null,
      "order": null,
      "overflow": null,
      "overflow_x": null,
      "overflow_y": null,
      "padding": null,
      "right": null,
      "top": null,
      "visibility": null,
      "width": null
     }
    },
    "5c00513d30f842c9ab0c9b7df88a5c28": {
     "model_module": "@jupyter-widgets/controls",
     "model_module_version": "1.5.0",
     "model_name": "FloatProgressModel",
     "state": {
      "_dom_classes": [],
      "_model_module": "@jupyter-widgets/controls",
      "_model_module_version": "1.5.0",
      "_model_name": "FloatProgressModel",
      "_view_count": null,
      "_view_module": "@jupyter-widgets/controls",
      "_view_module_version": "1.5.0",
      "_view_name": "ProgressView",
      "bar_style": "success",
      "description": "",
      "description_tooltip": null,
      "layout": "IPY_MODEL_06ba7b9166144049846598da04869029",
      "max": 592,
      "min": 0,
      "orientation": "horizontal",
      "style": "IPY_MODEL_c9155d6b470a44cbaf6480ceb206dcc7",
      "value": 592
     }
    },
    "5c0c77d14cea4a658a385250bbb9e6b7": {
     "model_module": "@jupyter-widgets/base",
     "model_module_version": "1.2.0",
     "model_name": "LayoutModel",
     "state": {
      "_model_module": "@jupyter-widgets/base",
      "_model_module_version": "1.2.0",
      "_model_name": "LayoutModel",
      "_view_count": null,
      "_view_module": "@jupyter-widgets/base",
      "_view_module_version": "1.2.0",
      "_view_name": "LayoutView",
      "align_content": null,
      "align_items": null,
      "align_self": null,
      "border": null,
      "bottom": null,
      "display": null,
      "flex": null,
      "flex_flow": null,
      "grid_area": null,
      "grid_auto_columns": null,
      "grid_auto_flow": null,
      "grid_auto_rows": null,
      "grid_column": null,
      "grid_gap": null,
      "grid_row": null,
      "grid_template_areas": null,
      "grid_template_columns": null,
      "grid_template_rows": null,
      "height": null,
      "justify_content": null,
      "justify_items": null,
      "left": null,
      "margin": null,
      "max_height": null,
      "max_width": null,
      "min_height": null,
      "min_width": null,
      "object_fit": null,
      "object_position": null,
      "order": null,
      "overflow": null,
      "overflow_x": null,
      "overflow_y": null,
      "padding": null,
      "right": null,
      "top": null,
      "visibility": null,
      "width": null
     }
    },
    "5c197d99816a4df6927a811265bc4507": {
     "model_module": "@jupyter-widgets/controls",
     "model_module_version": "1.5.0",
     "model_name": "FloatProgressModel",
     "state": {
      "_dom_classes": [],
      "_model_module": "@jupyter-widgets/controls",
      "_model_module_version": "1.5.0",
      "_model_name": "FloatProgressModel",
      "_view_count": null,
      "_view_module": "@jupyter-widgets/controls",
      "_view_module_version": "1.5.0",
      "_view_name": "ProgressView",
      "bar_style": "success",
      "description": "",
      "description_tooltip": null,
      "layout": "IPY_MODEL_60a5892be10c4cafb6c79b5b489ebdea",
      "max": 524657,
      "min": 0,
      "orientation": "horizontal",
      "style": "IPY_MODEL_6274b828c80b4ef7ab6253c8e58a8f7d",
      "value": 524657
     }
    },
    "5ef42e66d19d4d4699f13a58948a7102": {
     "model_module": "@jupyter-widgets/controls",
     "model_module_version": "1.5.0",
     "model_name": "DescriptionStyleModel",
     "state": {
      "_model_module": "@jupyter-widgets/controls",
      "_model_module_version": "1.5.0",
      "_model_name": "DescriptionStyleModel",
      "_view_count": null,
      "_view_module": "@jupyter-widgets/base",
      "_view_module_version": "1.2.0",
      "_view_name": "StyleView",
      "description_width": ""
     }
    },
    "60a5892be10c4cafb6c79b5b489ebdea": {
     "model_module": "@jupyter-widgets/base",
     "model_module_version": "1.2.0",
     "model_name": "LayoutModel",
     "state": {
      "_model_module": "@jupyter-widgets/base",
      "_model_module_version": "1.2.0",
      "_model_name": "LayoutModel",
      "_view_count": null,
      "_view_module": "@jupyter-widgets/base",
      "_view_module_version": "1.2.0",
      "_view_name": "LayoutView",
      "align_content": null,
      "align_items": null,
      "align_self": null,
      "border": null,
      "bottom": null,
      "display": null,
      "flex": null,
      "flex_flow": null,
      "grid_area": null,
      "grid_auto_columns": null,
      "grid_auto_flow": null,
      "grid_auto_rows": null,
      "grid_column": null,
      "grid_gap": null,
      "grid_row": null,
      "grid_template_areas": null,
      "grid_template_columns": null,
      "grid_template_rows": null,
      "height": null,
      "justify_content": null,
      "justify_items": null,
      "left": null,
      "margin": null,
      "max_height": null,
      "max_width": null,
      "min_height": null,
      "min_width": null,
      "object_fit": null,
      "object_position": null,
      "order": null,
      "overflow": null,
      "overflow_x": null,
      "overflow_y": null,
      "padding": null,
      "right": null,
      "top": null,
      "visibility": null,
      "width": null
     }
    },
    "61b977439e6e4660b3dc805ca057be7a": {
     "model_module": "@jupyter-widgets/controls",
     "model_module_version": "1.5.0",
     "model_name": "ProgressStyleModel",
     "state": {
      "_model_module": "@jupyter-widgets/controls",
      "_model_module_version": "1.5.0",
      "_model_name": "ProgressStyleModel",
      "_view_count": null,
      "_view_module": "@jupyter-widgets/base",
      "_view_module_version": "1.2.0",
      "_view_name": "StyleView",
      "bar_color": null,
      "description_width": ""
     }
    },
    "6274b828c80b4ef7ab6253c8e58a8f7d": {
     "model_module": "@jupyter-widgets/controls",
     "model_module_version": "1.5.0",
     "model_name": "ProgressStyleModel",
     "state": {
      "_model_module": "@jupyter-widgets/controls",
      "_model_module_version": "1.5.0",
      "_model_name": "ProgressStyleModel",
      "_view_count": null,
      "_view_module": "@jupyter-widgets/base",
      "_view_module_version": "1.2.0",
      "_view_name": "StyleView",
      "bar_color": null,
      "description_width": ""
     }
    },
    "65acc09aaf2247bfb8b2af8405fa173d": {
     "model_module": "@jupyter-widgets/controls",
     "model_module_version": "1.5.0",
     "model_name": "HTMLModel",
     "state": {
      "_dom_classes": [],
      "_model_module": "@jupyter-widgets/controls",
      "_model_module_version": "1.5.0",
      "_model_name": "HTMLModel",
      "_view_count": null,
      "_view_module": "@jupyter-widgets/controls",
      "_view_module_version": "1.5.0",
      "_view_name": "HTMLView",
      "description": "",
      "description_tooltip": null,
      "layout": "IPY_MODEL_209d34ccbb084a07adbba664a7cb7f5f",
      "placeholder": "​",
      "style": "IPY_MODEL_9e62bb05402948bbb49f75b1e4bbfdb2",
      "value": " 30/30 [06:18&lt;00:00, 10.61s/it]"
     }
    },
    "681199760eeb4982abbf3f347a9edcc8": {
     "model_module": "@jupyter-widgets/controls",
     "model_module_version": "1.5.0",
     "model_name": "HBoxModel",
     "state": {
      "_dom_classes": [],
      "_model_module": "@jupyter-widgets/controls",
      "_model_module_version": "1.5.0",
      "_model_name": "HBoxModel",
      "_view_count": null,
      "_view_module": "@jupyter-widgets/controls",
      "_view_module_version": "1.5.0",
      "_view_name": "HBoxView",
      "box_style": "",
      "children": [
       "IPY_MODEL_d1a508948c2e4f6ba153a867392c1ab1",
       "IPY_MODEL_e76bd29e46f34034890d7a9b2361becc",
       "IPY_MODEL_7163439ad05b44ad94ba05d42a7e8962"
      ],
      "layout": "IPY_MODEL_1606de65d00d49d7a80e1d5eb05a8845"
     }
    },
    "7163439ad05b44ad94ba05d42a7e8962": {
     "model_module": "@jupyter-widgets/controls",
     "model_module_version": "1.5.0",
     "model_name": "HTMLModel",
     "state": {
      "_dom_classes": [],
      "_model_module": "@jupyter-widgets/controls",
      "_model_module_version": "1.5.0",
      "_model_name": "HTMLModel",
      "_view_count": null,
      "_view_module": "@jupyter-widgets/controls",
      "_view_module_version": "1.5.0",
      "_view_name": "HTMLView",
      "description": "",
      "description_tooltip": null,
      "layout": "IPY_MODEL_840a39b2ae12440bb585249f4c6a9d84",
      "placeholder": "​",
      "style": "IPY_MODEL_c1d531399201470892f196d2e2f476d5",
      "value": " 862k/862k [00:00&lt;00:00, 16.9MB/s]"
     }
    },
    "71dd5a54710a47af8561c0fcf8dc1cb0": {
     "model_module": "@jupyter-widgets/controls",
     "model_module_version": "1.5.0",
     "model_name": "DescriptionStyleModel",
     "state": {
      "_model_module": "@jupyter-widgets/controls",
      "_model_module_version": "1.5.0",
      "_model_name": "DescriptionStyleModel",
      "_view_count": null,
      "_view_module": "@jupyter-widgets/base",
      "_view_module_version": "1.2.0",
      "_view_name": "StyleView",
      "description_width": ""
     }
    },
    "72bac92e27284670a9eed3759d013578": {
     "model_module": "@jupyter-widgets/base",
     "model_module_version": "1.2.0",
     "model_name": "LayoutModel",
     "state": {
      "_model_module": "@jupyter-widgets/base",
      "_model_module_version": "1.2.0",
      "_model_name": "LayoutModel",
      "_view_count": null,
      "_view_module": "@jupyter-widgets/base",
      "_view_module_version": "1.2.0",
      "_view_name": "LayoutView",
      "align_content": null,
      "align_items": null,
      "align_self": null,
      "border": null,
      "bottom": null,
      "display": null,
      "flex": null,
      "flex_flow": null,
      "grid_area": null,
      "grid_auto_columns": null,
      "grid_auto_flow": null,
      "grid_auto_rows": null,
      "grid_column": null,
      "grid_gap": null,
      "grid_row": null,
      "grid_template_areas": null,
      "grid_template_columns": null,
      "grid_template_rows": null,
      "height": null,
      "justify_content": null,
      "justify_items": null,
      "left": null,
      "margin": null,
      "max_height": null,
      "max_width": null,
      "min_height": null,
      "min_width": null,
      "object_fit": null,
      "object_position": null,
      "order": null,
      "overflow": null,
      "overflow_x": null,
      "overflow_y": null,
      "padding": null,
      "right": null,
      "top": null,
      "visibility": null,
      "width": null
     }
    },
    "72bcae9eff3e49f9b6846a3e873a2ca2": {
     "model_module": "@jupyter-widgets/base",
     "model_module_version": "1.2.0",
     "model_name": "LayoutModel",
     "state": {
      "_model_module": "@jupyter-widgets/base",
      "_model_module_version": "1.2.0",
      "_model_name": "LayoutModel",
      "_view_count": null,
      "_view_module": "@jupyter-widgets/base",
      "_view_module_version": "1.2.0",
      "_view_name": "LayoutView",
      "align_content": null,
      "align_items": null,
      "align_self": null,
      "border": null,
      "bottom": null,
      "display": null,
      "flex": null,
      "flex_flow": null,
      "grid_area": null,
      "grid_auto_columns": null,
      "grid_auto_flow": null,
      "grid_auto_rows": null,
      "grid_column": null,
      "grid_gap": null,
      "grid_row": null,
      "grid_template_areas": null,
      "grid_template_columns": null,
      "grid_template_rows": null,
      "height": null,
      "justify_content": null,
      "justify_items": null,
      "left": null,
      "margin": null,
      "max_height": null,
      "max_width": null,
      "min_height": null,
      "min_width": null,
      "object_fit": null,
      "object_position": null,
      "order": null,
      "overflow": null,
      "overflow_x": null,
      "overflow_y": null,
      "padding": null,
      "right": null,
      "top": null,
      "visibility": null,
      "width": null
     }
    },
    "73478d2155dd4c2abbd0ee7658d46e48": {
     "model_module": "@jupyter-widgets/controls",
     "model_module_version": "1.5.0",
     "model_name": "DescriptionStyleModel",
     "state": {
      "_model_module": "@jupyter-widgets/controls",
      "_model_module_version": "1.5.0",
      "_model_name": "DescriptionStyleModel",
      "_view_count": null,
      "_view_module": "@jupyter-widgets/base",
      "_view_module_version": "1.2.0",
      "_view_name": "StyleView",
      "description_width": ""
     }
    },
    "74c733d17a9f4ed4ac306d89ccbdcaf4": {
     "model_module": "@jupyter-widgets/controls",
     "model_module_version": "1.5.0",
     "model_name": "HTMLModel",
     "state": {
      "_dom_classes": [],
      "_model_module": "@jupyter-widgets/controls",
      "_model_module_version": "1.5.0",
      "_model_name": "HTMLModel",
      "_view_count": null,
      "_view_module": "@jupyter-widgets/controls",
      "_view_module_version": "1.5.0",
      "_view_name": "HTMLView",
      "description": "",
      "description_tooltip": null,
      "layout": "IPY_MODEL_c5117a81acb64e1e99990904467d4d88",
      "placeholder": "​",
      "style": "IPY_MODEL_ce8c3ee38b854b3fa20b5c285c62d222",
      "value": "tokenizer_config.json: 100%"
     }
    },
    "78f19d04f997452187682660ba23002a": {
     "model_module": "@jupyter-widgets/controls",
     "model_module_version": "1.5.0",
     "model_name": "FloatProgressModel",
     "state": {
      "_dom_classes": [],
      "_model_module": "@jupyter-widgets/controls",
      "_model_module_version": "1.5.0",
      "_model_name": "FloatProgressModel",
      "_view_count": null,
      "_view_module": "@jupyter-widgets/controls",
      "_view_module_version": "1.5.0",
      "_view_name": "ProgressView",
      "bar_style": "success",
      "description": "",
      "description_tooltip": null,
      "layout": "IPY_MODEL_b163bff0d0c54e668c3e78e338bc3fbb",
      "max": 605247071,
      "min": 0,
      "orientation": "horizontal",
      "style": "IPY_MODEL_821d6948f5074798919666142b403c13",
      "value": 605247071
     }
    },
    "7cf07ad5455741e88666551e0279e68d": {
     "model_module": "@jupyter-widgets/controls",
     "model_module_version": "1.5.0",
     "model_name": "ProgressStyleModel",
     "state": {
      "_model_module": "@jupyter-widgets/controls",
      "_model_module_version": "1.5.0",
      "_model_name": "ProgressStyleModel",
      "_view_count": null,
      "_view_module": "@jupyter-widgets/base",
      "_view_module_version": "1.2.0",
      "_view_name": "StyleView",
      "bar_color": null,
      "description_width": ""
     }
    },
    "7e3ad8f782754a36992041ff5e2d7617": {
     "model_module": "@jupyter-widgets/base",
     "model_module_version": "1.2.0",
     "model_name": "LayoutModel",
     "state": {
      "_model_module": "@jupyter-widgets/base",
      "_model_module_version": "1.2.0",
      "_model_name": "LayoutModel",
      "_view_count": null,
      "_view_module": "@jupyter-widgets/base",
      "_view_module_version": "1.2.0",
      "_view_name": "LayoutView",
      "align_content": null,
      "align_items": null,
      "align_self": null,
      "border": null,
      "bottom": null,
      "display": null,
      "flex": null,
      "flex_flow": null,
      "grid_area": null,
      "grid_auto_columns": null,
      "grid_auto_flow": null,
      "grid_auto_rows": null,
      "grid_column": null,
      "grid_gap": null,
      "grid_row": null,
      "grid_template_areas": null,
      "grid_template_columns": null,
      "grid_template_rows": null,
      "height": null,
      "justify_content": null,
      "justify_items": null,
      "left": null,
      "margin": null,
      "max_height": null,
      "max_width": null,
      "min_height": null,
      "min_width": null,
      "object_fit": null,
      "object_position": null,
      "order": null,
      "overflow": null,
      "overflow_x": null,
      "overflow_y": null,
      "padding": null,
      "right": null,
      "top": null,
      "visibility": null,
      "width": null
     }
    },
    "7eda39d8442e44018fcecc6609683f52": {
     "model_module": "@jupyter-widgets/base",
     "model_module_version": "1.2.0",
     "model_name": "LayoutModel",
     "state": {
      "_model_module": "@jupyter-widgets/base",
      "_model_module_version": "1.2.0",
      "_model_name": "LayoutModel",
      "_view_count": null,
      "_view_module": "@jupyter-widgets/base",
      "_view_module_version": "1.2.0",
      "_view_name": "LayoutView",
      "align_content": null,
      "align_items": null,
      "align_self": null,
      "border": null,
      "bottom": null,
      "display": null,
      "flex": null,
      "flex_flow": null,
      "grid_area": null,
      "grid_auto_columns": null,
      "grid_auto_flow": null,
      "grid_auto_rows": null,
      "grid_column": null,
      "grid_gap": null,
      "grid_row": null,
      "grid_template_areas": null,
      "grid_template_columns": null,
      "grid_template_rows": null,
      "height": null,
      "justify_content": null,
      "justify_items": null,
      "left": null,
      "margin": null,
      "max_height": null,
      "max_width": null,
      "min_height": null,
      "min_width": null,
      "object_fit": null,
      "object_position": null,
      "order": null,
      "overflow": null,
      "overflow_x": null,
      "overflow_y": null,
      "padding": null,
      "right": null,
      "top": null,
      "visibility": null,
      "width": null
     }
    },
    "7f106721143942119854594138f39ddb": {
     "model_module": "@jupyter-widgets/base",
     "model_module_version": "1.2.0",
     "model_name": "LayoutModel",
     "state": {
      "_model_module": "@jupyter-widgets/base",
      "_model_module_version": "1.2.0",
      "_model_name": "LayoutModel",
      "_view_count": null,
      "_view_module": "@jupyter-widgets/base",
      "_view_module_version": "1.2.0",
      "_view_name": "LayoutView",
      "align_content": null,
      "align_items": null,
      "align_self": null,
      "border": null,
      "bottom": null,
      "display": null,
      "flex": null,
      "flex_flow": null,
      "grid_area": null,
      "grid_auto_columns": null,
      "grid_auto_flow": null,
      "grid_auto_rows": null,
      "grid_column": null,
      "grid_gap": null,
      "grid_row": null,
      "grid_template_areas": null,
      "grid_template_columns": null,
      "grid_template_rows": null,
      "height": null,
      "justify_content": null,
      "justify_items": null,
      "left": null,
      "margin": null,
      "max_height": null,
      "max_width": null,
      "min_height": null,
      "min_width": null,
      "object_fit": null,
      "object_position": null,
      "order": null,
      "overflow": null,
      "overflow_x": null,
      "overflow_y": null,
      "padding": null,
      "right": null,
      "top": null,
      "visibility": null,
      "width": null
     }
    },
    "81d32728cf7342c8b4252e29a8be8b25": {
     "model_module": "@jupyter-widgets/base",
     "model_module_version": "1.2.0",
     "model_name": "LayoutModel",
     "state": {
      "_model_module": "@jupyter-widgets/base",
      "_model_module_version": "1.2.0",
      "_model_name": "LayoutModel",
      "_view_count": null,
      "_view_module": "@jupyter-widgets/base",
      "_view_module_version": "1.2.0",
      "_view_name": "LayoutView",
      "align_content": null,
      "align_items": null,
      "align_self": null,
      "border": null,
      "bottom": null,
      "display": null,
      "flex": null,
      "flex_flow": null,
      "grid_area": null,
      "grid_auto_columns": null,
      "grid_auto_flow": null,
      "grid_auto_rows": null,
      "grid_column": null,
      "grid_gap": null,
      "grid_row": null,
      "grid_template_areas": null,
      "grid_template_columns": null,
      "grid_template_rows": null,
      "height": null,
      "justify_content": null,
      "justify_items": null,
      "left": null,
      "margin": null,
      "max_height": null,
      "max_width": null,
      "min_height": null,
      "min_width": null,
      "object_fit": null,
      "object_position": null,
      "order": null,
      "overflow": null,
      "overflow_x": null,
      "overflow_y": null,
      "padding": null,
      "right": null,
      "top": null,
      "visibility": null,
      "width": null
     }
    },
    "821d6948f5074798919666142b403c13": {
     "model_module": "@jupyter-widgets/controls",
     "model_module_version": "1.5.0",
     "model_name": "ProgressStyleModel",
     "state": {
      "_model_module": "@jupyter-widgets/controls",
      "_model_module_version": "1.5.0",
      "_model_name": "ProgressStyleModel",
      "_view_count": null,
      "_view_module": "@jupyter-widgets/base",
      "_view_module_version": "1.2.0",
      "_view_name": "StyleView",
      "bar_color": null,
      "description_width": ""
     }
    },
    "840a39b2ae12440bb585249f4c6a9d84": {
     "model_module": "@jupyter-widgets/base",
     "model_module_version": "1.2.0",
     "model_name": "LayoutModel",
     "state": {
      "_model_module": "@jupyter-widgets/base",
      "_model_module_version": "1.2.0",
      "_model_name": "LayoutModel",
      "_view_count": null,
      "_view_module": "@jupyter-widgets/base",
      "_view_module_version": "1.2.0",
      "_view_name": "LayoutView",
      "align_content": null,
      "align_items": null,
      "align_self": null,
      "border": null,
      "bottom": null,
      "display": null,
      "flex": null,
      "flex_flow": null,
      "grid_area": null,
      "grid_auto_columns": null,
      "grid_auto_flow": null,
      "grid_auto_rows": null,
      "grid_column": null,
      "grid_gap": null,
      "grid_row": null,
      "grid_template_areas": null,
      "grid_template_columns": null,
      "grid_template_rows": null,
      "height": null,
      "justify_content": null,
      "justify_items": null,
      "left": null,
      "margin": null,
      "max_height": null,
      "max_width": null,
      "min_height": null,
      "min_width": null,
      "object_fit": null,
      "object_position": null,
      "order": null,
      "overflow": null,
      "overflow_x": null,
      "overflow_y": null,
      "padding": null,
      "right": null,
      "top": null,
      "visibility": null,
      "width": null
     }
    },
    "8602b42a2c3b49ccbbee98cd36d6521c": {
     "model_module": "@jupyter-widgets/controls",
     "model_module_version": "1.5.0",
     "model_name": "HTMLModel",
     "state": {
      "_dom_classes": [],
      "_model_module": "@jupyter-widgets/controls",
      "_model_module_version": "1.5.0",
      "_model_name": "HTMLModel",
      "_view_count": null,
      "_view_module": "@jupyter-widgets/controls",
      "_view_module_version": "1.5.0",
      "_view_name": "HTMLView",
      "description": "",
      "description_tooltip": null,
      "layout": "IPY_MODEL_4875c87285ec47b3aa81da5c0ad38533",
      "placeholder": "​",
      "style": "IPY_MODEL_0a9f75fd7cbf469f912007f2a3521df0",
      "value": " 605M/605M [00:07&lt;00:00, 108MB/s]"
     }
    },
    "88056572271e432cb7e94bfea73c9cc6": {
     "model_module": "@jupyter-widgets/base",
     "model_module_version": "1.2.0",
     "model_name": "LayoutModel",
     "state": {
      "_model_module": "@jupyter-widgets/base",
      "_model_module_version": "1.2.0",
      "_model_name": "LayoutModel",
      "_view_count": null,
      "_view_module": "@jupyter-widgets/base",
      "_view_module_version": "1.2.0",
      "_view_name": "LayoutView",
      "align_content": null,
      "align_items": null,
      "align_self": null,
      "border": null,
      "bottom": null,
      "display": null,
      "flex": null,
      "flex_flow": null,
      "grid_area": null,
      "grid_auto_columns": null,
      "grid_auto_flow": null,
      "grid_auto_rows": null,
      "grid_column": null,
      "grid_gap": null,
      "grid_row": null,
      "grid_template_areas": null,
      "grid_template_columns": null,
      "grid_template_rows": null,
      "height": null,
      "justify_content": null,
      "justify_items": null,
      "left": null,
      "margin": null,
      "max_height": null,
      "max_width": null,
      "min_height": null,
      "min_width": null,
      "object_fit": null,
      "object_position": null,
      "order": null,
      "overflow": null,
      "overflow_x": null,
      "overflow_y": null,
      "padding": null,
      "right": null,
      "top": null,
      "visibility": null,
      "width": null
     }
    },
    "8a2ecf189a144454937634cb4c7a0db0": {
     "model_module": "@jupyter-widgets/controls",
     "model_module_version": "1.5.0",
     "model_name": "HTMLModel",
     "state": {
      "_dom_classes": [],
      "_model_module": "@jupyter-widgets/controls",
      "_model_module_version": "1.5.0",
      "_model_name": "HTMLModel",
      "_view_count": null,
      "_view_module": "@jupyter-widgets/controls",
      "_view_module_version": "1.5.0",
      "_view_name": "HTMLView",
      "description": "",
      "description_tooltip": null,
      "layout": "IPY_MODEL_7eda39d8442e44018fcecc6609683f52",
      "placeholder": "​",
      "style": "IPY_MODEL_b3567359242744139e0ef364b6124939",
      "value": " 389/389 [00:00&lt;00:00, 19.1kB/s]"
     }
    },
    "8bf14815df06454f85d166697b644139": {
     "model_module": "@jupyter-widgets/controls",
     "model_module_version": "1.5.0",
     "model_name": "HBoxModel",
     "state": {
      "_dom_classes": [],
      "_model_module": "@jupyter-widgets/controls",
      "_model_module_version": "1.5.0",
      "_model_name": "HBoxModel",
      "_view_count": null,
      "_view_module": "@jupyter-widgets/controls",
      "_view_module_version": "1.5.0",
      "_view_name": "HBoxView",
      "box_style": "",
      "children": [
       "IPY_MODEL_122996e0e42f4e42911df0fd725d1967",
       "IPY_MODEL_39330c4598164399a3d98d984d293cdf",
       "IPY_MODEL_14a6533dad7541d1be2faa50d9ff8583"
      ],
      "layout": "IPY_MODEL_1d3e28dd33ba443db113c771664ef45d"
     }
    },
    "8db3ad442a5e48d1b3b0d8b3bcbaf60b": {
     "model_module": "@jupyter-widgets/controls",
     "model_module_version": "1.5.0",
     "model_name": "ProgressStyleModel",
     "state": {
      "_model_module": "@jupyter-widgets/controls",
      "_model_module_version": "1.5.0",
      "_model_name": "ProgressStyleModel",
      "_view_count": null,
      "_view_module": "@jupyter-widgets/base",
      "_view_module_version": "1.2.0",
      "_view_name": "StyleView",
      "bar_color": null,
      "description_width": ""
     }
    },
    "9578f75e3e4343a38a405116ff320d67": {
     "model_module": "@jupyter-widgets/controls",
     "model_module_version": "1.5.0",
     "model_name": "DescriptionStyleModel",
     "state": {
      "_model_module": "@jupyter-widgets/controls",
      "_model_module_version": "1.5.0",
      "_model_name": "DescriptionStyleModel",
      "_view_count": null,
      "_view_module": "@jupyter-widgets/base",
      "_view_module_version": "1.2.0",
      "_view_name": "StyleView",
      "description_width": ""
     }
    },
    "96aa2fca88ec41d4b79a5482ad0299dd": {
     "model_module": "@jupyter-widgets/controls",
     "model_module_version": "1.5.0",
     "model_name": "HBoxModel",
     "state": {
      "_dom_classes": [],
      "_model_module": "@jupyter-widgets/controls",
      "_model_module_version": "1.5.0",
      "_model_name": "HBoxModel",
      "_view_count": null,
      "_view_module": "@jupyter-widgets/controls",
      "_view_module_version": "1.5.0",
      "_view_name": "HBoxView",
      "box_style": "",
      "children": [
       "IPY_MODEL_a386cc8925a541658fa805a9f44bf848",
       "IPY_MODEL_5c197d99816a4df6927a811265bc4507",
       "IPY_MODEL_b234f2f3ee644b0cb6c9b63313ebb09c"
      ],
      "layout": "IPY_MODEL_0614e9fe130041278af33d47de2020b9"
     }
    },
    "9921b20367ee4d518f0ee3109f1b42c9": {
     "model_module": "@jupyter-widgets/controls",
     "model_module_version": "1.5.0",
     "model_name": "DescriptionStyleModel",
     "state": {
      "_model_module": "@jupyter-widgets/controls",
      "_model_module_version": "1.5.0",
      "_model_name": "DescriptionStyleModel",
      "_view_count": null,
      "_view_module": "@jupyter-widgets/base",
      "_view_module_version": "1.2.0",
      "_view_name": "StyleView",
      "description_width": ""
     }
    },
    "9a47cf520db846af881116a8bf858d4c": {
     "model_module": "@jupyter-widgets/controls",
     "model_module_version": "1.5.0",
     "model_name": "HBoxModel",
     "state": {
      "_dom_classes": [],
      "_model_module": "@jupyter-widgets/controls",
      "_model_module_version": "1.5.0",
      "_model_name": "HBoxModel",
      "_view_count": null,
      "_view_module": "@jupyter-widgets/controls",
      "_view_module_version": "1.5.0",
      "_view_name": "HBoxView",
      "box_style": "",
      "children": [
       "IPY_MODEL_546075b247ee4252874a3e64baa6d4b5",
       "IPY_MODEL_0235b8ae8e2c41da9c177b963a8ef3a9",
       "IPY_MODEL_a4cb0aec8868462fa31019727cd7fb1d"
      ],
      "layout": "IPY_MODEL_0a1b6c381316466186059f6d5b4786e1"
     }
    },
    "9dc4b7c9386b4759a0b66c50b67bae8a": {
     "model_module": "@jupyter-widgets/controls",
     "model_module_version": "1.5.0",
     "model_name": "DescriptionStyleModel",
     "state": {
      "_model_module": "@jupyter-widgets/controls",
      "_model_module_version": "1.5.0",
      "_model_name": "DescriptionStyleModel",
      "_view_count": null,
      "_view_module": "@jupyter-widgets/base",
      "_view_module_version": "1.2.0",
      "_view_name": "StyleView",
      "description_width": ""
     }
    },
    "9e62bb05402948bbb49f75b1e4bbfdb2": {
     "model_module": "@jupyter-widgets/controls",
     "model_module_version": "1.5.0",
     "model_name": "DescriptionStyleModel",
     "state": {
      "_model_module": "@jupyter-widgets/controls",
      "_model_module_version": "1.5.0",
      "_model_name": "DescriptionStyleModel",
      "_view_count": null,
      "_view_module": "@jupyter-widgets/base",
      "_view_module_version": "1.2.0",
      "_view_name": "StyleView",
      "description_width": ""
     }
    },
    "a386cc8925a541658fa805a9f44bf848": {
     "model_module": "@jupyter-widgets/controls",
     "model_module_version": "1.5.0",
     "model_name": "HTMLModel",
     "state": {
      "_dom_classes": [],
      "_model_module": "@jupyter-widgets/controls",
      "_model_module_version": "1.5.0",
      "_model_name": "HTMLModel",
      "_view_count": null,
      "_view_module": "@jupyter-widgets/controls",
      "_view_module_version": "1.5.0",
      "_view_name": "HTMLView",
      "description": "",
      "description_tooltip": null,
      "layout": "IPY_MODEL_a6de113ff7d9466cbe54166b78129837",
      "placeholder": "​",
      "style": "IPY_MODEL_71dd5a54710a47af8561c0fcf8dc1cb0",
      "value": "merges.txt: 100%"
     }
    },
    "a4c45ee66de5461caa9e3facf6776982": {
     "model_module": "@jupyter-widgets/base",
     "model_module_version": "1.2.0",
     "model_name": "LayoutModel",
     "state": {
      "_model_module": "@jupyter-widgets/base",
      "_model_module_version": "1.2.0",
      "_model_name": "LayoutModel",
      "_view_count": null,
      "_view_module": "@jupyter-widgets/base",
      "_view_module_version": "1.2.0",
      "_view_name": "LayoutView",
      "align_content": null,
      "align_items": null,
      "align_self": null,
      "border": null,
      "bottom": null,
      "display": null,
      "flex": null,
      "flex_flow": null,
      "grid_area": null,
      "grid_auto_columns": null,
      "grid_auto_flow": null,
      "grid_auto_rows": null,
      "grid_column": null,
      "grid_gap": null,
      "grid_row": null,
      "grid_template_areas": null,
      "grid_template_columns": null,
      "grid_template_rows": null,
      "height": null,
      "justify_content": null,
      "justify_items": null,
      "left": null,
      "margin": null,
      "max_height": null,
      "max_width": null,
      "min_height": null,
      "min_width": null,
      "object_fit": null,
      "object_position": null,
      "order": null,
      "overflow": null,
      "overflow_x": null,
      "overflow_y": null,
      "padding": null,
      "right": null,
      "top": null,
      "visibility": null,
      "width": null
     }
    },
    "a4cb0aec8868462fa31019727cd7fb1d": {
     "model_module": "@jupyter-widgets/controls",
     "model_module_version": "1.5.0",
     "model_name": "HTMLModel",
     "state": {
      "_dom_classes": [],
      "_model_module": "@jupyter-widgets/controls",
      "_model_module_version": "1.5.0",
      "_model_name": "HTMLModel",
      "_view_count": null,
      "_view_module": "@jupyter-widgets/controls",
      "_view_module_version": "1.5.0",
      "_view_name": "HTMLView",
      "description": "",
      "description_tooltip": null,
      "layout": "IPY_MODEL_4ac3292d1c7c4b6bb4f51933e8e120dc",
      "placeholder": "​",
      "style": "IPY_MODEL_0b6c9b3c0bc44f34990d76d2ee9e029e",
      "value": " 2.22M/2.22M [00:00&lt;00:00, 26.9MB/s]"
     }
    },
    "a6de113ff7d9466cbe54166b78129837": {
     "model_module": "@jupyter-widgets/base",
     "model_module_version": "1.2.0",
     "model_name": "LayoutModel",
     "state": {
      "_model_module": "@jupyter-widgets/base",
      "_model_module_version": "1.2.0",
      "_model_name": "LayoutModel",
      "_view_count": null,
      "_view_module": "@jupyter-widgets/base",
      "_view_module_version": "1.2.0",
      "_view_name": "LayoutView",
      "align_content": null,
      "align_items": null,
      "align_self": null,
      "border": null,
      "bottom": null,
      "display": null,
      "flex": null,
      "flex_flow": null,
      "grid_area": null,
      "grid_auto_columns": null,
      "grid_auto_flow": null,
      "grid_auto_rows": null,
      "grid_column": null,
      "grid_gap": null,
      "grid_row": null,
      "grid_template_areas": null,
      "grid_template_columns": null,
      "grid_template_rows": null,
      "height": null,
      "justify_content": null,
      "justify_items": null,
      "left": null,
      "margin": null,
      "max_height": null,
      "max_width": null,
      "min_height": null,
      "min_width": null,
      "object_fit": null,
      "object_position": null,
      "order": null,
      "overflow": null,
      "overflow_x": null,
      "overflow_y": null,
      "padding": null,
      "right": null,
      "top": null,
      "visibility": null,
      "width": null
     }
    },
    "adaae98ac7a14c60bc2b1835806875e5": {
     "model_module": "@jupyter-widgets/controls",
     "model_module_version": "1.5.0",
     "model_name": "DescriptionStyleModel",
     "state": {
      "_model_module": "@jupyter-widgets/controls",
      "_model_module_version": "1.5.0",
      "_model_name": "DescriptionStyleModel",
      "_view_count": null,
      "_view_module": "@jupyter-widgets/base",
      "_view_module_version": "1.2.0",
      "_view_name": "StyleView",
      "description_width": ""
     }
    },
    "aeda802f1a10485496ed00ad8e45bbe2": {
     "model_module": "@jupyter-widgets/base",
     "model_module_version": "1.2.0",
     "model_name": "LayoutModel",
     "state": {
      "_model_module": "@jupyter-widgets/base",
      "_model_module_version": "1.2.0",
      "_model_name": "LayoutModel",
      "_view_count": null,
      "_view_module": "@jupyter-widgets/base",
      "_view_module_version": "1.2.0",
      "_view_name": "LayoutView",
      "align_content": null,
      "align_items": null,
      "align_self": null,
      "border": null,
      "bottom": null,
      "display": null,
      "flex": null,
      "flex_flow": null,
      "grid_area": null,
      "grid_auto_columns": null,
      "grid_auto_flow": null,
      "grid_auto_rows": null,
      "grid_column": null,
      "grid_gap": null,
      "grid_row": null,
      "grid_template_areas": null,
      "grid_template_columns": null,
      "grid_template_rows": null,
      "height": null,
      "justify_content": null,
      "justify_items": null,
      "left": null,
      "margin": null,
      "max_height": null,
      "max_width": null,
      "min_height": null,
      "min_width": null,
      "object_fit": null,
      "object_position": null,
      "order": null,
      "overflow": null,
      "overflow_x": null,
      "overflow_y": null,
      "padding": null,
      "right": null,
      "top": null,
      "visibility": null,
      "width": null
     }
    },
    "b00066776c3a4e9e8c9f1d4b510eada2": {
     "model_module": "@jupyter-widgets/controls",
     "model_module_version": "1.5.0",
     "model_name": "HTMLModel",
     "state": {
      "_dom_classes": [],
      "_model_module": "@jupyter-widgets/controls",
      "_model_module_version": "1.5.0",
      "_model_name": "HTMLModel",
      "_view_count": null,
      "_view_module": "@jupyter-widgets/controls",
      "_view_module_version": "1.5.0",
      "_view_name": "HTMLView",
      "description": "",
      "description_tooltip": null,
      "layout": "IPY_MODEL_72bac92e27284670a9eed3759d013578",
      "placeholder": "​",
      "style": "IPY_MODEL_9921b20367ee4d518f0ee3109f1b42c9",
      "value": "config.json: 100%"
     }
    },
    "b163bff0d0c54e668c3e78e338bc3fbb": {
     "model_module": "@jupyter-widgets/base",
     "model_module_version": "1.2.0",
     "model_name": "LayoutModel",
     "state": {
      "_model_module": "@jupyter-widgets/base",
      "_model_module_version": "1.2.0",
      "_model_name": "LayoutModel",
      "_view_count": null,
      "_view_module": "@jupyter-widgets/base",
      "_view_module_version": "1.2.0",
      "_view_name": "LayoutView",
      "align_content": null,
      "align_items": null,
      "align_self": null,
      "border": null,
      "bottom": null,
      "display": null,
      "flex": null,
      "flex_flow": null,
      "grid_area": null,
      "grid_auto_columns": null,
      "grid_auto_flow": null,
      "grid_auto_rows": null,
      "grid_column": null,
      "grid_gap": null,
      "grid_row": null,
      "grid_template_areas": null,
      "grid_template_columns": null,
      "grid_template_rows": null,
      "height": null,
      "justify_content": null,
      "justify_items": null,
      "left": null,
      "margin": null,
      "max_height": null,
      "max_width": null,
      "min_height": null,
      "min_width": null,
      "object_fit": null,
      "object_position": null,
      "order": null,
      "overflow": null,
      "overflow_x": null,
      "overflow_y": null,
      "padding": null,
      "right": null,
      "top": null,
      "visibility": null,
      "width": null
     }
    },
    "b234f2f3ee644b0cb6c9b63313ebb09c": {
     "model_module": "@jupyter-widgets/controls",
     "model_module_version": "1.5.0",
     "model_name": "HTMLModel",
     "state": {
      "_dom_classes": [],
      "_model_module": "@jupyter-widgets/controls",
      "_model_module_version": "1.5.0",
      "_model_name": "HTMLModel",
      "_view_count": null,
      "_view_module": "@jupyter-widgets/controls",
      "_view_module_version": "1.5.0",
      "_view_name": "HTMLView",
      "description": "",
      "description_tooltip": null,
      "layout": "IPY_MODEL_b8607f6291fd43d29eb0d410c0138099",
      "placeholder": "​",
      "style": "IPY_MODEL_adaae98ac7a14c60bc2b1835806875e5",
      "value": " 525k/525k [00:00&lt;00:00, 17.3MB/s]"
     }
    },
    "b3567359242744139e0ef364b6124939": {
     "model_module": "@jupyter-widgets/controls",
     "model_module_version": "1.5.0",
     "model_name": "DescriptionStyleModel",
     "state": {
      "_model_module": "@jupyter-widgets/controls",
      "_model_module_version": "1.5.0",
      "_model_name": "DescriptionStyleModel",
      "_view_count": null,
      "_view_module": "@jupyter-widgets/base",
      "_view_module_version": "1.2.0",
      "_view_name": "StyleView",
      "description_width": ""
     }
    },
    "b404bfff3c2a464496a81e7b48bbb740": {
     "model_module": "@jupyter-widgets/controls",
     "model_module_version": "1.5.0",
     "model_name": "FloatProgressModel",
     "state": {
      "_dom_classes": [],
      "_model_module": "@jupyter-widgets/controls",
      "_model_module_version": "1.5.0",
      "_model_name": "FloatProgressModel",
      "_view_count": null,
      "_view_module": "@jupyter-widgets/controls",
      "_view_module_version": "1.5.0",
      "_view_name": "ProgressView",
      "bar_style": "success",
      "description": "",
      "description_tooltip": null,
      "layout": "IPY_MODEL_88056572271e432cb7e94bfea73c9cc6",
      "max": 4186,
      "min": 0,
      "orientation": "horizontal",
      "style": "IPY_MODEL_61b977439e6e4660b3dc805ca057be7a",
      "value": 4186
     }
    },
    "b4cb2c7f5bd9475daa6b62e8d79f23d3": {
     "model_module": "@jupyter-widgets/controls",
     "model_module_version": "1.5.0",
     "model_name": "HTMLModel",
     "state": {
      "_dom_classes": [],
      "_model_module": "@jupyter-widgets/controls",
      "_model_module_version": "1.5.0",
      "_model_name": "HTMLModel",
      "_view_count": null,
      "_view_module": "@jupyter-widgets/controls",
      "_view_module_version": "1.5.0",
      "_view_name": "HTMLView",
      "description": "",
      "description_tooltip": null,
      "layout": "IPY_MODEL_1a59724c2be74b7b9f40a619848dabfa",
      "placeholder": "​",
      "style": "IPY_MODEL_cf9f09e94e2a437aa30e078143c9b3d2",
      "value": "preprocessor_config.json: 100%"
     }
    },
    "b7a1c596cb0948fca5ab19800294d81c": {
     "model_module": "@jupyter-widgets/controls",
     "model_module_version": "1.5.0",
     "model_name": "HTMLModel",
     "state": {
      "_dom_classes": [],
      "_model_module": "@jupyter-widgets/controls",
      "_model_module_version": "1.5.0",
      "_model_name": "HTMLModel",
      "_view_count": null,
      "_view_module": "@jupyter-widgets/controls",
      "_view_module_version": "1.5.0",
      "_view_name": "HTMLView",
      "description": "",
      "description_tooltip": null,
      "layout": "IPY_MODEL_4d90e29518aa4820a2188a30e68032da",
      "placeholder": "​",
      "style": "IPY_MODEL_73478d2155dd4c2abbd0ee7658d46e48",
      "value": " 316/316 [00:00&lt;00:00, 14.2kB/s]"
     }
    },
    "b8607f6291fd43d29eb0d410c0138099": {
     "model_module": "@jupyter-widgets/base",
     "model_module_version": "1.2.0",
     "model_name": "LayoutModel",
     "state": {
      "_model_module": "@jupyter-widgets/base",
      "_model_module_version": "1.2.0",
      "_model_name": "LayoutModel",
      "_view_count": null,
      "_view_module": "@jupyter-widgets/base",
      "_view_module_version": "1.2.0",
      "_view_name": "LayoutView",
      "align_content": null,
      "align_items": null,
      "align_self": null,
      "border": null,
      "bottom": null,
      "display": null,
      "flex": null,
      "flex_flow": null,
      "grid_area": null,
      "grid_auto_columns": null,
      "grid_auto_flow": null,
      "grid_auto_rows": null,
      "grid_column": null,
      "grid_gap": null,
      "grid_row": null,
      "grid_template_areas": null,
      "grid_template_columns": null,
      "grid_template_rows": null,
      "height": null,
      "justify_content": null,
      "justify_items": null,
      "left": null,
      "margin": null,
      "max_height": null,
      "max_width": null,
      "min_height": null,
      "min_width": null,
      "object_fit": null,
      "object_position": null,
      "order": null,
      "overflow": null,
      "overflow_x": null,
      "overflow_y": null,
      "padding": null,
      "right": null,
      "top": null,
      "visibility": null,
      "width": null
     }
    },
    "ba53c69d0abf4a8f86dc6feaaf479b6b": {
     "model_module": "@jupyter-widgets/base",
     "model_module_version": "1.2.0",
     "model_name": "LayoutModel",
     "state": {
      "_model_module": "@jupyter-widgets/base",
      "_model_module_version": "1.2.0",
      "_model_name": "LayoutModel",
      "_view_count": null,
      "_view_module": "@jupyter-widgets/base",
      "_view_module_version": "1.2.0",
      "_view_name": "LayoutView",
      "align_content": null,
      "align_items": null,
      "align_self": null,
      "border": null,
      "bottom": null,
      "display": null,
      "flex": null,
      "flex_flow": null,
      "grid_area": null,
      "grid_auto_columns": null,
      "grid_auto_flow": null,
      "grid_auto_rows": null,
      "grid_column": null,
      "grid_gap": null,
      "grid_row": null,
      "grid_template_areas": null,
      "grid_template_columns": null,
      "grid_template_rows": null,
      "height": null,
      "justify_content": null,
      "justify_items": null,
      "left": null,
      "margin": null,
      "max_height": null,
      "max_width": null,
      "min_height": null,
      "min_width": null,
      "object_fit": null,
      "object_position": null,
      "order": null,
      "overflow": null,
      "overflow_x": null,
      "overflow_y": null,
      "padding": null,
      "right": null,
      "top": null,
      "visibility": null,
      "width": null
     }
    },
    "bf5b7d5154164835b4c8401a6f67ac83": {
     "model_module": "@jupyter-widgets/base",
     "model_module_version": "1.2.0",
     "model_name": "LayoutModel",
     "state": {
      "_model_module": "@jupyter-widgets/base",
      "_model_module_version": "1.2.0",
      "_model_name": "LayoutModel",
      "_view_count": null,
      "_view_module": "@jupyter-widgets/base",
      "_view_module_version": "1.2.0",
      "_view_name": "LayoutView",
      "align_content": null,
      "align_items": null,
      "align_self": null,
      "border": null,
      "bottom": null,
      "display": null,
      "flex": null,
      "flex_flow": null,
      "grid_area": null,
      "grid_auto_columns": null,
      "grid_auto_flow": null,
      "grid_auto_rows": null,
      "grid_column": null,
      "grid_gap": null,
      "grid_row": null,
      "grid_template_areas": null,
      "grid_template_columns": null,
      "grid_template_rows": null,
      "height": null,
      "justify_content": null,
      "justify_items": null,
      "left": null,
      "margin": null,
      "max_height": null,
      "max_width": null,
      "min_height": null,
      "min_width": null,
      "object_fit": null,
      "object_position": null,
      "order": null,
      "overflow": null,
      "overflow_x": null,
      "overflow_y": null,
      "padding": null,
      "right": null,
      "top": null,
      "visibility": null,
      "width": null
     }
    },
    "c1c4ad84433a449293bfb45ecbb2ae42": {
     "model_module": "@jupyter-widgets/controls",
     "model_module_version": "1.5.0",
     "model_name": "HBoxModel",
     "state": {
      "_dom_classes": [],
      "_model_module": "@jupyter-widgets/controls",
      "_model_module_version": "1.5.0",
      "_model_name": "HBoxModel",
      "_view_count": null,
      "_view_module": "@jupyter-widgets/controls",
      "_view_module_version": "1.5.0",
      "_view_name": "HBoxView",
      "box_style": "",
      "children": [
       "IPY_MODEL_0aae1d34c5314df4b316f04f77b99d9c",
       "IPY_MODEL_78f19d04f997452187682660ba23002a",
       "IPY_MODEL_8602b42a2c3b49ccbbee98cd36d6521c"
      ],
      "layout": "IPY_MODEL_ba53c69d0abf4a8f86dc6feaaf479b6b"
     }
    },
    "c1d531399201470892f196d2e2f476d5": {
     "model_module": "@jupyter-widgets/controls",
     "model_module_version": "1.5.0",
     "model_name": "DescriptionStyleModel",
     "state": {
      "_model_module": "@jupyter-widgets/controls",
      "_model_module_version": "1.5.0",
      "_model_name": "DescriptionStyleModel",
      "_view_count": null,
      "_view_module": "@jupyter-widgets/base",
      "_view_module_version": "1.2.0",
      "_view_name": "StyleView",
      "description_width": ""
     }
    },
    "c5117a81acb64e1e99990904467d4d88": {
     "model_module": "@jupyter-widgets/base",
     "model_module_version": "1.2.0",
     "model_name": "LayoutModel",
     "state": {
      "_model_module": "@jupyter-widgets/base",
      "_model_module_version": "1.2.0",
      "_model_name": "LayoutModel",
      "_view_count": null,
      "_view_module": "@jupyter-widgets/base",
      "_view_module_version": "1.2.0",
      "_view_name": "LayoutView",
      "align_content": null,
      "align_items": null,
      "align_self": null,
      "border": null,
      "bottom": null,
      "display": null,
      "flex": null,
      "flex_flow": null,
      "grid_area": null,
      "grid_auto_columns": null,
      "grid_auto_flow": null,
      "grid_auto_rows": null,
      "grid_column": null,
      "grid_gap": null,
      "grid_row": null,
      "grid_template_areas": null,
      "grid_template_columns": null,
      "grid_template_rows": null,
      "height": null,
      "justify_content": null,
      "justify_items": null,
      "left": null,
      "margin": null,
      "max_height": null,
      "max_width": null,
      "min_height": null,
      "min_width": null,
      "object_fit": null,
      "object_position": null,
      "order": null,
      "overflow": null,
      "overflow_x": null,
      "overflow_y": null,
      "padding": null,
      "right": null,
      "top": null,
      "visibility": null,
      "width": null
     }
    },
    "c5ca440842e34e6c822ce65253017fa5": {
     "model_module": "@jupyter-widgets/controls",
     "model_module_version": "1.5.0",
     "model_name": "HBoxModel",
     "state": {
      "_dom_classes": [],
      "_model_module": "@jupyter-widgets/controls",
      "_model_module_version": "1.5.0",
      "_model_name": "HBoxModel",
      "_view_count": null,
      "_view_module": "@jupyter-widgets/controls",
      "_view_module_version": "1.5.0",
      "_view_name": "HBoxView",
      "box_style": "",
      "children": [
       "IPY_MODEL_74c733d17a9f4ed4ac306d89ccbdcaf4",
       "IPY_MODEL_5c00513d30f842c9ab0c9b7df88a5c28",
       "IPY_MODEL_d03f8c27f2bd4e9bae43b40253f7bdfa"
      ],
      "layout": "IPY_MODEL_aeda802f1a10485496ed00ad8e45bbe2"
     }
    },
    "c9155d6b470a44cbaf6480ceb206dcc7": {
     "model_module": "@jupyter-widgets/controls",
     "model_module_version": "1.5.0",
     "model_name": "ProgressStyleModel",
     "state": {
      "_model_module": "@jupyter-widgets/controls",
      "_model_module_version": "1.5.0",
      "_model_name": "ProgressStyleModel",
      "_view_count": null,
      "_view_module": "@jupyter-widgets/base",
      "_view_module_version": "1.2.0",
      "_view_name": "StyleView",
      "bar_color": null,
      "description_width": ""
     }
    },
    "ca3009af34664759bfbecca56e6c1980": {
     "model_module": "@jupyter-widgets/base",
     "model_module_version": "1.2.0",
     "model_name": "LayoutModel",
     "state": {
      "_model_module": "@jupyter-widgets/base",
      "_model_module_version": "1.2.0",
      "_model_name": "LayoutModel",
      "_view_count": null,
      "_view_module": "@jupyter-widgets/base",
      "_view_module_version": "1.2.0",
      "_view_name": "LayoutView",
      "align_content": null,
      "align_items": null,
      "align_self": null,
      "border": null,
      "bottom": null,
      "display": null,
      "flex": null,
      "flex_flow": null,
      "grid_area": null,
      "grid_auto_columns": null,
      "grid_auto_flow": null,
      "grid_auto_rows": null,
      "grid_column": null,
      "grid_gap": null,
      "grid_row": null,
      "grid_template_areas": null,
      "grid_template_columns": null,
      "grid_template_rows": null,
      "height": null,
      "justify_content": null,
      "justify_items": null,
      "left": null,
      "margin": null,
      "max_height": null,
      "max_width": null,
      "min_height": null,
      "min_width": null,
      "object_fit": null,
      "object_position": null,
      "order": null,
      "overflow": null,
      "overflow_x": null,
      "overflow_y": null,
      "padding": null,
      "right": null,
      "top": null,
      "visibility": null,
      "width": null
     }
    },
    "cb45d46e0f55425aa61ca74e4cccf042": {
     "model_module": "@jupyter-widgets/controls",
     "model_module_version": "1.5.0",
     "model_name": "ProgressStyleModel",
     "state": {
      "_model_module": "@jupyter-widgets/controls",
      "_model_module_version": "1.5.0",
      "_model_name": "ProgressStyleModel",
      "_view_count": null,
      "_view_module": "@jupyter-widgets/base",
      "_view_module_version": "1.2.0",
      "_view_name": "StyleView",
      "bar_color": null,
      "description_width": ""
     }
    },
    "cd97d4b1d19e45699fc50ab6ef6fb27c": {
     "model_module": "@jupyter-widgets/controls",
     "model_module_version": "1.5.0",
     "model_name": "HTMLModel",
     "state": {
      "_dom_classes": [],
      "_model_module": "@jupyter-widgets/controls",
      "_model_module_version": "1.5.0",
      "_model_name": "HTMLModel",
      "_view_count": null,
      "_view_module": "@jupyter-widgets/controls",
      "_view_module_version": "1.5.0",
      "_view_name": "HTMLView",
      "description": "",
      "description_tooltip": null,
      "layout": "IPY_MODEL_3e0a6a7a70f4477aa3f23e32695f9cbf",
      "placeholder": "​",
      "style": "IPY_MODEL_9dc4b7c9386b4759a0b66c50b67bae8a",
      "value": " 4.19k/4.19k [00:00&lt;00:00, 204kB/s]"
     }
    },
    "ce8c3ee38b854b3fa20b5c285c62d222": {
     "model_module": "@jupyter-widgets/controls",
     "model_module_version": "1.5.0",
     "model_name": "DescriptionStyleModel",
     "state": {
      "_model_module": "@jupyter-widgets/controls",
      "_model_module_version": "1.5.0",
      "_model_name": "DescriptionStyleModel",
      "_view_count": null,
      "_view_module": "@jupyter-widgets/base",
      "_view_module_version": "1.2.0",
      "_view_name": "StyleView",
      "description_width": ""
     }
    },
    "cef0af05b14749c780a044a13e27370d": {
     "model_module": "@jupyter-widgets/controls",
     "model_module_version": "1.5.0",
     "model_name": "HTMLModel",
     "state": {
      "_dom_classes": [],
      "_model_module": "@jupyter-widgets/controls",
      "_model_module_version": "1.5.0",
      "_model_name": "HTMLModel",
      "_view_count": null,
      "_view_module": "@jupyter-widgets/controls",
      "_view_module_version": "1.5.0",
      "_view_name": "HTMLView",
      "description": "",
      "description_tooltip": null,
      "layout": "IPY_MODEL_81d32728cf7342c8b4252e29a8be8b25",
      "placeholder": "​",
      "style": "IPY_MODEL_2c2d471cf65047629464edd5922973f2",
      "value": "100%"
     }
    },
    "cf9f09e94e2a437aa30e078143c9b3d2": {
     "model_module": "@jupyter-widgets/controls",
     "model_module_version": "1.5.0",
     "model_name": "DescriptionStyleModel",
     "state": {
      "_model_module": "@jupyter-widgets/controls",
      "_model_module_version": "1.5.0",
      "_model_name": "DescriptionStyleModel",
      "_view_count": null,
      "_view_module": "@jupyter-widgets/base",
      "_view_module_version": "1.2.0",
      "_view_name": "StyleView",
      "description_width": ""
     }
    },
    "d03f8c27f2bd4e9bae43b40253f7bdfa": {
     "model_module": "@jupyter-widgets/controls",
     "model_module_version": "1.5.0",
     "model_name": "HTMLModel",
     "state": {
      "_dom_classes": [],
      "_model_module": "@jupyter-widgets/controls",
      "_model_module_version": "1.5.0",
      "_model_name": "HTMLModel",
      "_view_count": null,
      "_view_module": "@jupyter-widgets/controls",
      "_view_module_version": "1.5.0",
      "_view_name": "HTMLView",
      "description": "",
      "description_tooltip": null,
      "layout": "IPY_MODEL_06d66ee5ab994f3fb0c61f0f853bff06",
      "placeholder": "​",
      "style": "IPY_MODEL_9578f75e3e4343a38a405116ff320d67",
      "value": " 592/592 [00:00&lt;00:00, 28.5kB/s]"
     }
    },
    "d0d0a4b20b514959a180fd052f134cc7": {
     "model_module": "@jupyter-widgets/controls",
     "model_module_version": "1.5.0",
     "model_name": "FloatProgressModel",
     "state": {
      "_dom_classes": [],
      "_model_module": "@jupyter-widgets/controls",
      "_model_module_version": "1.5.0",
      "_model_name": "FloatProgressModel",
      "_view_count": null,
      "_view_module": "@jupyter-widgets/controls",
      "_view_module_version": "1.5.0",
      "_view_name": "ProgressView",
      "bar_style": "success",
      "description": "",
      "description_tooltip": null,
      "layout": "IPY_MODEL_3beb9735e75545b1844f55ad1b7b1557",
      "max": 30,
      "min": 0,
      "orientation": "horizontal",
      "style": "IPY_MODEL_cb45d46e0f55425aa61ca74e4cccf042",
      "value": 30
     }
    },
    "d1a508948c2e4f6ba153a867392c1ab1": {
     "model_module": "@jupyter-widgets/controls",
     "model_module_version": "1.5.0",
     "model_name": "HTMLModel",
     "state": {
      "_dom_classes": [],
      "_model_module": "@jupyter-widgets/controls",
      "_model_module_version": "1.5.0",
      "_model_name": "HTMLModel",
      "_view_count": null,
      "_view_module": "@jupyter-widgets/controls",
      "_view_module_version": "1.5.0",
      "_view_name": "HTMLView",
      "description": "",
      "description_tooltip": null,
      "layout": "IPY_MODEL_7e3ad8f782754a36992041ff5e2d7617",
      "placeholder": "​",
      "style": "IPY_MODEL_2fb8098cecd44e64be0b9d0f18691283",
      "value": "vocab.json: 100%"
     }
    },
    "d3ed0fe46ef1461ba4f4700ad97cb5d3": {
     "model_module": "@jupyter-widgets/controls",
     "model_module_version": "1.5.0",
     "model_name": "HBoxModel",
     "state": {
      "_dom_classes": [],
      "_model_module": "@jupyter-widgets/controls",
      "_model_module_version": "1.5.0",
      "_model_name": "HBoxModel",
      "_view_count": null,
      "_view_module": "@jupyter-widgets/controls",
      "_view_module_version": "1.5.0",
      "_view_name": "HBoxView",
      "box_style": "",
      "children": [
       "IPY_MODEL_b00066776c3a4e9e8c9f1d4b510eada2",
       "IPY_MODEL_b404bfff3c2a464496a81e7b48bbb740",
       "IPY_MODEL_cd97d4b1d19e45699fc50ab6ef6fb27c"
      ],
      "layout": "IPY_MODEL_57ecff6f748540b498aa332ee401fab6"
     }
    },
    "d8dfb9542a21449fabf89b476f23da54": {
     "model_module": "@jupyter-widgets/controls",
     "model_module_version": "1.5.0",
     "model_name": "ProgressStyleModel",
     "state": {
      "_model_module": "@jupyter-widgets/controls",
      "_model_module_version": "1.5.0",
      "_model_name": "ProgressStyleModel",
      "_view_count": null,
      "_view_module": "@jupyter-widgets/base",
      "_view_module_version": "1.2.0",
      "_view_name": "StyleView",
      "bar_color": null,
      "description_width": ""
     }
    },
    "dae06a004d62478788037f4392335548": {
     "model_module": "@jupyter-widgets/controls",
     "model_module_version": "1.5.0",
     "model_name": "FloatProgressModel",
     "state": {
      "_dom_classes": [],
      "_model_module": "@jupyter-widgets/controls",
      "_model_module_version": "1.5.0",
      "_model_name": "FloatProgressModel",
      "_view_count": null,
      "_view_module": "@jupyter-widgets/controls",
      "_view_module_version": "1.5.0",
      "_view_name": "ProgressView",
      "bar_style": "success",
      "description": "",
      "description_tooltip": null,
      "layout": "IPY_MODEL_0dba67397dde422ebefa99e4e4edbdac",
      "max": 389,
      "min": 0,
      "orientation": "horizontal",
      "style": "IPY_MODEL_8db3ad442a5e48d1b3b0d8b3bcbaf60b",
      "value": 389
     }
    },
    "e3238094bac44559b734d345c1beb3b0": {
     "model_module": "@jupyter-widgets/controls",
     "model_module_version": "1.5.0",
     "model_name": "HTMLModel",
     "state": {
      "_dom_classes": [],
      "_model_module": "@jupyter-widgets/controls",
      "_model_module_version": "1.5.0",
      "_model_name": "HTMLModel",
      "_view_count": null,
      "_view_module": "@jupyter-widgets/controls",
      "_view_module_version": "1.5.0",
      "_view_name": "HTMLView",
      "description": "",
      "description_tooltip": null,
      "layout": "IPY_MODEL_5861cc3eafc64e4c90859e27adc320ef",
      "placeholder": "​",
      "style": "IPY_MODEL_37a109e8a2a848b3ad3accd5ee64ee4c",
      "value": "special_tokens_map.json: 100%"
     }
    },
    "e76bd29e46f34034890d7a9b2361becc": {
     "model_module": "@jupyter-widgets/controls",
     "model_module_version": "1.5.0",
     "model_name": "FloatProgressModel",
     "state": {
      "_dom_classes": [],
      "_model_module": "@jupyter-widgets/controls",
      "_model_module_version": "1.5.0",
      "_model_name": "FloatProgressModel",
      "_view_count": null,
      "_view_module": "@jupyter-widgets/controls",
      "_view_module_version": "1.5.0",
      "_view_name": "ProgressView",
      "bar_style": "success",
      "description": "",
      "description_tooltip": null,
      "layout": "IPY_MODEL_19cb33a21fac4cb18f8bd4ef111bba69",
      "max": 862328,
      "min": 0,
      "orientation": "horizontal",
      "style": "IPY_MODEL_7cf07ad5455741e88666551e0279e68d",
      "value": 862328
     }
    },
    "e9b297bea9c34b44b3db3f46fcf514d6": {
     "model_module": "@jupyter-widgets/base",
     "model_module_version": "1.2.0",
     "model_name": "LayoutModel",
     "state": {
      "_model_module": "@jupyter-widgets/base",
      "_model_module_version": "1.2.0",
      "_model_name": "LayoutModel",
      "_view_count": null,
      "_view_module": "@jupyter-widgets/base",
      "_view_module_version": "1.2.0",
      "_view_name": "LayoutView",
      "align_content": null,
      "align_items": null,
      "align_self": null,
      "border": null,
      "bottom": null,
      "display": null,
      "flex": null,
      "flex_flow": null,
      "grid_area": null,
      "grid_auto_columns": null,
      "grid_auto_flow": null,
      "grid_auto_rows": null,
      "grid_column": null,
      "grid_gap": null,
      "grid_row": null,
      "grid_template_areas": null,
      "grid_template_columns": null,
      "grid_template_rows": null,
      "height": null,
      "justify_content": null,
      "justify_items": null,
      "left": null,
      "margin": null,
      "max_height": null,
      "max_width": null,
      "min_height": null,
      "min_width": null,
      "object_fit": null,
      "object_position": null,
      "order": null,
      "overflow": null,
      "overflow_x": null,
      "overflow_y": null,
      "padding": null,
      "right": null,
      "top": null,
      "visibility": null,
      "width": null
     }
    },
    "ea3b096429f6497f907ed0e364a72f07": {
     "model_module": "@jupyter-widgets/controls",
     "model_module_version": "1.5.0",
     "model_name": "HBoxModel",
     "state": {
      "_dom_classes": [],
      "_model_module": "@jupyter-widgets/controls",
      "_model_module_version": "1.5.0",
      "_model_name": "HBoxModel",
      "_view_count": null,
      "_view_module": "@jupyter-widgets/controls",
      "_view_module_version": "1.5.0",
      "_view_name": "HBoxView",
      "box_style": "",
      "children": [
       "IPY_MODEL_e3238094bac44559b734d345c1beb3b0",
       "IPY_MODEL_dae06a004d62478788037f4392335548",
       "IPY_MODEL_8a2ecf189a144454937634cb4c7a0db0"
      ],
      "layout": "IPY_MODEL_7f106721143942119854594138f39ddb"
     }
    },
    "ebcb2745838c4fa3b872ec24b721f8fd": {
     "model_module": "@jupyter-widgets/controls",
     "model_module_version": "1.5.0",
     "model_name": "DescriptionStyleModel",
     "state": {
      "_model_module": "@jupyter-widgets/controls",
      "_model_module_version": "1.5.0",
      "_model_name": "DescriptionStyleModel",
      "_view_count": null,
      "_view_module": "@jupyter-widgets/base",
      "_view_module_version": "1.2.0",
      "_view_name": "StyleView",
      "description_width": ""
     }
    },
    "f328c484342a4c52833bc8b6d9e9c510": {
     "model_module": "@jupyter-widgets/controls",
     "model_module_version": "1.5.0",
     "model_name": "DescriptionStyleModel",
     "state": {
      "_model_module": "@jupyter-widgets/controls",
      "_model_module_version": "1.5.0",
      "_model_name": "DescriptionStyleModel",
      "_view_count": null,
      "_view_module": "@jupyter-widgets/base",
      "_view_module_version": "1.2.0",
      "_view_name": "StyleView",
      "description_width": ""
     }
    },
    "f403a1fde7da45f89a725c5519a77269": {
     "model_module": "@jupyter-widgets/base",
     "model_module_version": "1.2.0",
     "model_name": "LayoutModel",
     "state": {
      "_model_module": "@jupyter-widgets/base",
      "_model_module_version": "1.2.0",
      "_model_name": "LayoutModel",
      "_view_count": null,
      "_view_module": "@jupyter-widgets/base",
      "_view_module_version": "1.2.0",
      "_view_name": "LayoutView",
      "align_content": null,
      "align_items": null,
      "align_self": null,
      "border": null,
      "bottom": null,
      "display": null,
      "flex": null,
      "flex_flow": null,
      "grid_area": null,
      "grid_auto_columns": null,
      "grid_auto_flow": null,
      "grid_auto_rows": null,
      "grid_column": null,
      "grid_gap": null,
      "grid_row": null,
      "grid_template_areas": null,
      "grid_template_columns": null,
      "grid_template_rows": null,
      "height": null,
      "justify_content": null,
      "justify_items": null,
      "left": null,
      "margin": null,
      "max_height": null,
      "max_width": null,
      "min_height": null,
      "min_width": null,
      "object_fit": null,
      "object_position": null,
      "order": null,
      "overflow": null,
      "overflow_x": null,
      "overflow_y": null,
      "padding": null,
      "right": null,
      "top": null,
      "visibility": null,
      "width": null
     }
    }
   }
  }
 },
 "nbformat": 4,
 "nbformat_minor": 0
}
